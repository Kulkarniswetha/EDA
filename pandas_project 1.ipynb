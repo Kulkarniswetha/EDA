{
 "cells": [
  {
   "cell_type": "code",
   "execution_count": 1,
   "id": "258b3484",
   "metadata": {},
   "outputs": [],
   "source": [
    "import pandas as pd\n",
    "import matplotlib.pyplot as plt\n",
    "import seaborn as sns"
   ]
  },
  {
   "cell_type": "code",
   "execution_count": 2,
   "id": "c3d70c98",
   "metadata": {},
   "outputs": [],
   "source": [
    "df=pd.read_csv(r\"C:\\Users\\sweth\\Downloads\\Telegram Desktop\\total_cars\")"
   ]
  },
  {
   "cell_type": "code",
   "execution_count": 3,
   "id": "625a6b50",
   "metadata": {
    "scrolled": true
   },
   "outputs": [
    {
     "data": {
      "text/html": [
       "<div>\n",
       "<style scoped>\n",
       "    .dataframe tbody tr th:only-of-type {\n",
       "        vertical-align: middle;\n",
       "    }\n",
       "\n",
       "    .dataframe tbody tr th {\n",
       "        vertical-align: top;\n",
       "    }\n",
       "\n",
       "    .dataframe thead th {\n",
       "        text-align: right;\n",
       "    }\n",
       "</style>\n",
       "<table border=\"1\" class=\"dataframe\">\n",
       "  <thead>\n",
       "    <tr style=\"text-align: right;\">\n",
       "      <th></th>\n",
       "      <th>Unnamed: 0.2</th>\n",
       "      <th>Unnamed: 0.1</th>\n",
       "      <th>Unnamed: 0</th>\n",
       "      <th>state</th>\n",
       "      <th>city</th>\n",
       "      <th>year</th>\n",
       "      <th>make</th>\n",
       "      <th>model</th>\n",
       "      <th>series</th>\n",
       "      <th>transmission</th>\n",
       "      <th>fuel</th>\n",
       "      <th>owner</th>\n",
       "      <th>emi</th>\n",
       "      <th>kilometers</th>\n",
       "      <th>mileage</th>\n",
       "      <th>seating</th>\n",
       "      <th>price</th>\n",
       "    </tr>\n",
       "  </thead>\n",
       "  <tbody>\n",
       "    <tr>\n",
       "      <th>0</th>\n",
       "      <td>0</td>\n",
       "      <td>0</td>\n",
       "      <td>0</td>\n",
       "      <td>CapitalUT</td>\n",
       "      <td>Delhi</td>\n",
       "      <td>2020</td>\n",
       "      <td>FORD</td>\n",
       "      <td>ECOSPORT</td>\n",
       "      <td>TITANIUM 1.5L DIESEL</td>\n",
       "      <td>Manual</td>\n",
       "      <td>Diesel</td>\n",
       "      <td>1st</td>\n",
       "      <td>15425</td>\n",
       "      <td>96075</td>\n",
       "      <td>9</td>\n",
       "      <td>5</td>\n",
       "      <td>789000</td>\n",
       "    </tr>\n",
       "    <tr>\n",
       "      <th>1</th>\n",
       "      <td>1</td>\n",
       "      <td>1</td>\n",
       "      <td>1</td>\n",
       "      <td>CapitalUT</td>\n",
       "      <td>Delhi</td>\n",
       "      <td>2016</td>\n",
       "      <td>Ford</td>\n",
       "      <td>Ecosport</td>\n",
       "      <td>1.5AMBIENTE TI VCT</td>\n",
       "      <td>Manual</td>\n",
       "      <td>Petrol</td>\n",
       "      <td>1st</td>\n",
       "      <td>10792</td>\n",
       "      <td>55017</td>\n",
       "      <td>9</td>\n",
       "      <td>5</td>\n",
       "      <td>552000</td>\n",
       "    </tr>\n",
       "    <tr>\n",
       "      <th>2</th>\n",
       "      <td>2</td>\n",
       "      <td>2</td>\n",
       "      <td>2</td>\n",
       "      <td>CapitalUT</td>\n",
       "      <td>Delhi</td>\n",
       "      <td>2018</td>\n",
       "      <td>FORD</td>\n",
       "      <td>ECOSPORT</td>\n",
       "      <td>AMBIENTE 1.5L DIESEL</td>\n",
       "      <td>Manual</td>\n",
       "      <td>Diesel</td>\n",
       "      <td>1st</td>\n",
       "      <td>13978</td>\n",
       "      <td>24931</td>\n",
       "      <td>9</td>\n",
       "      <td>5</td>\n",
       "      <td>715000</td>\n",
       "    </tr>\n",
       "    <tr>\n",
       "      <th>3</th>\n",
       "      <td>3</td>\n",
       "      <td>3</td>\n",
       "      <td>3</td>\n",
       "      <td>CapitalUT</td>\n",
       "      <td>Delhi</td>\n",
       "      <td>2019</td>\n",
       "      <td>FORD</td>\n",
       "      <td>ECOSPORT</td>\n",
       "      <td>TITANIUM 1.5L PETROL</td>\n",
       "      <td>Manual</td>\n",
       "      <td>Petrol</td>\n",
       "      <td>1st</td>\n",
       "      <td>15503</td>\n",
       "      <td>22270</td>\n",
       "      <td>9</td>\n",
       "      <td>5</td>\n",
       "      <td>793000</td>\n",
       "    </tr>\n",
       "    <tr>\n",
       "      <th>4</th>\n",
       "      <td>4</td>\n",
       "      <td>4</td>\n",
       "      <td>4</td>\n",
       "      <td>CapitalUT</td>\n",
       "      <td>Delhi</td>\n",
       "      <td>2015</td>\n",
       "      <td>Ford</td>\n",
       "      <td>Ecosport</td>\n",
       "      <td>TITANIUM 1.5L PETROL AT</td>\n",
       "      <td>Automatic</td>\n",
       "      <td>Petrol</td>\n",
       "      <td>2nd</td>\n",
       "      <td>10440</td>\n",
       "      <td>78906</td>\n",
       "      <td>9</td>\n",
       "      <td>5</td>\n",
       "      <td>534000</td>\n",
       "    </tr>\n",
       "    <tr>\n",
       "      <th>...</th>\n",
       "      <td>...</td>\n",
       "      <td>...</td>\n",
       "      <td>...</td>\n",
       "      <td>...</td>\n",
       "      <td>...</td>\n",
       "      <td>...</td>\n",
       "      <td>...</td>\n",
       "      <td>...</td>\n",
       "      <td>...</td>\n",
       "      <td>...</td>\n",
       "      <td>...</td>\n",
       "      <td>...</td>\n",
       "      <td>...</td>\n",
       "      <td>...</td>\n",
       "      <td>...</td>\n",
       "      <td>...</td>\n",
       "      <td>...</td>\n",
       "    </tr>\n",
       "    <tr>\n",
       "      <th>1810</th>\n",
       "      <td>304</td>\n",
       "      <td>5</td>\n",
       "      <td>5</td>\n",
       "      <td>UttarPradesh</td>\n",
       "      <td>Noida</td>\n",
       "      <td>2021</td>\n",
       "      <td>Tata</td>\n",
       "      <td>Tiago</td>\n",
       "      <td>XZ PETROL</td>\n",
       "      <td>Manual</td>\n",
       "      <td>Petrol</td>\n",
       "      <td>1st</td>\n",
       "      <td>12512</td>\n",
       "      <td>21726</td>\n",
       "      <td>11</td>\n",
       "      <td>5</td>\n",
       "      <td>640000</td>\n",
       "    </tr>\n",
       "    <tr>\n",
       "      <th>1811</th>\n",
       "      <td>305</td>\n",
       "      <td>6</td>\n",
       "      <td>6</td>\n",
       "      <td>UttarPradesh</td>\n",
       "      <td>Noida</td>\n",
       "      <td>2018</td>\n",
       "      <td>Tata</td>\n",
       "      <td>Tiago</td>\n",
       "      <td>XZA 1.2 REVOTRON</td>\n",
       "      <td>Automatic</td>\n",
       "      <td>Petrol</td>\n",
       "      <td>2nd</td>\n",
       "      <td>10459</td>\n",
       "      <td>27451</td>\n",
       "      <td>11</td>\n",
       "      <td>5</td>\n",
       "      <td>535000</td>\n",
       "    </tr>\n",
       "    <tr>\n",
       "      <th>1812</th>\n",
       "      <td>306</td>\n",
       "      <td>7</td>\n",
       "      <td>7</td>\n",
       "      <td>UttarPradesh</td>\n",
       "      <td>Noida</td>\n",
       "      <td>2022</td>\n",
       "      <td>Tata</td>\n",
       "      <td>Tiago</td>\n",
       "      <td>XZ+ CNG 1.2 RTN</td>\n",
       "      <td>Manual</td>\n",
       "      <td>CNG</td>\n",
       "      <td>1st</td>\n",
       "      <td>14799</td>\n",
       "      <td>30399</td>\n",
       "      <td>11</td>\n",
       "      <td>5</td>\n",
       "      <td>757000</td>\n",
       "    </tr>\n",
       "    <tr>\n",
       "      <th>1813</th>\n",
       "      <td>307</td>\n",
       "      <td>8</td>\n",
       "      <td>8</td>\n",
       "      <td>UttarPradesh</td>\n",
       "      <td>Noida</td>\n",
       "      <td>2018</td>\n",
       "      <td>Tata</td>\n",
       "      <td>Tiago</td>\n",
       "      <td>XZ 1.2 REVOTRON</td>\n",
       "      <td>Manual</td>\n",
       "      <td>Petrol</td>\n",
       "      <td>1st</td>\n",
       "      <td>9736</td>\n",
       "      <td>12249</td>\n",
       "      <td>11</td>\n",
       "      <td>5</td>\n",
       "      <td>498000</td>\n",
       "    </tr>\n",
       "    <tr>\n",
       "      <th>1814</th>\n",
       "      <td>308</td>\n",
       "      <td>9</td>\n",
       "      <td>9</td>\n",
       "      <td>UttarPradesh</td>\n",
       "      <td>Noida</td>\n",
       "      <td>2019</td>\n",
       "      <td>Tata</td>\n",
       "      <td>Tiago</td>\n",
       "      <td>XZA 1.2 REVOTRON</td>\n",
       "      <td>Automatic</td>\n",
       "      <td>Petrol</td>\n",
       "      <td>1st</td>\n",
       "      <td>10498</td>\n",
       "      <td>39417</td>\n",
       "      <td>11</td>\n",
       "      <td>5</td>\n",
       "      <td>537000</td>\n",
       "    </tr>\n",
       "  </tbody>\n",
       "</table>\n",
       "<p>1815 rows × 17 columns</p>\n",
       "</div>"
      ],
      "text/plain": [
       "      Unnamed: 0.2  Unnamed: 0.1  Unnamed: 0         state   city  year  make  \\\n",
       "0                0             0           0     CapitalUT  Delhi  2020  FORD   \n",
       "1                1             1           1     CapitalUT  Delhi  2016  Ford   \n",
       "2                2             2           2     CapitalUT  Delhi  2018  FORD   \n",
       "3                3             3           3     CapitalUT  Delhi  2019  FORD   \n",
       "4                4             4           4     CapitalUT  Delhi  2015  Ford   \n",
       "...            ...           ...         ...           ...    ...   ...   ...   \n",
       "1810           304             5           5  UttarPradesh  Noida  2021  Tata   \n",
       "1811           305             6           6  UttarPradesh  Noida  2018  Tata   \n",
       "1812           306             7           7  UttarPradesh  Noida  2022  Tata   \n",
       "1813           307             8           8  UttarPradesh  Noida  2018  Tata   \n",
       "1814           308             9           9  UttarPradesh  Noida  2019  Tata   \n",
       "\n",
       "         model                   series transmission    fuel owner    emi  \\\n",
       "0     ECOSPORT     TITANIUM 1.5L DIESEL       Manual  Diesel  1st   15425   \n",
       "1     Ecosport       1.5AMBIENTE TI VCT       Manual  Petrol  1st   10792   \n",
       "2     ECOSPORT     AMBIENTE 1.5L DIESEL       Manual  Diesel  1st   13978   \n",
       "3     ECOSPORT     TITANIUM 1.5L PETROL       Manual  Petrol  1st   15503   \n",
       "4     Ecosport  TITANIUM 1.5L PETROL AT    Automatic  Petrol  2nd   10440   \n",
       "...        ...                      ...          ...     ...   ...    ...   \n",
       "1810     Tiago                XZ PETROL       Manual  Petrol  1st   12512   \n",
       "1811     Tiago         XZA 1.2 REVOTRON    Automatic  Petrol  2nd   10459   \n",
       "1812     Tiago          XZ+ CNG 1.2 RTN       Manual     CNG  1st   14799   \n",
       "1813     Tiago          XZ 1.2 REVOTRON       Manual  Petrol  1st    9736   \n",
       "1814     Tiago         XZA 1.2 REVOTRON    Automatic  Petrol  1st   10498   \n",
       "\n",
       "      kilometers  mileage  seating   price  \n",
       "0          96075        9        5  789000  \n",
       "1          55017        9        5  552000  \n",
       "2          24931        9        5  715000  \n",
       "3          22270        9        5  793000  \n",
       "4          78906        9        5  534000  \n",
       "...          ...      ...      ...     ...  \n",
       "1810       21726       11        5  640000  \n",
       "1811       27451       11        5  535000  \n",
       "1812       30399       11        5  757000  \n",
       "1813       12249       11        5  498000  \n",
       "1814       39417       11        5  537000  \n",
       "\n",
       "[1815 rows x 17 columns]"
      ]
     },
     "execution_count": 3,
     "metadata": {},
     "output_type": "execute_result"
    }
   ],
   "source": [
    "df"
   ]
  },
  {
   "cell_type": "markdown",
   "id": "b40841d8",
   "metadata": {},
   "source": [
    "*Removing the unnecessary columns*"
   ]
  },
  {
   "cell_type": "code",
   "execution_count": 4,
   "id": "389a7b01",
   "metadata": {},
   "outputs": [],
   "source": [
    "df=df.drop(columns=['Unnamed: 0.2', 'Unnamed: 0.1', 'Unnamed: 0'])"
   ]
  },
  {
   "cell_type": "code",
   "execution_count": 5,
   "id": "b9297d86",
   "metadata": {},
   "outputs": [
    {
     "data": {
      "text/html": [
       "<div>\n",
       "<style scoped>\n",
       "    .dataframe tbody tr th:only-of-type {\n",
       "        vertical-align: middle;\n",
       "    }\n",
       "\n",
       "    .dataframe tbody tr th {\n",
       "        vertical-align: top;\n",
       "    }\n",
       "\n",
       "    .dataframe thead th {\n",
       "        text-align: right;\n",
       "    }\n",
       "</style>\n",
       "<table border=\"1\" class=\"dataframe\">\n",
       "  <thead>\n",
       "    <tr style=\"text-align: right;\">\n",
       "      <th></th>\n",
       "      <th>state</th>\n",
       "      <th>city</th>\n",
       "      <th>year</th>\n",
       "      <th>make</th>\n",
       "      <th>model</th>\n",
       "      <th>series</th>\n",
       "      <th>transmission</th>\n",
       "      <th>fuel</th>\n",
       "      <th>owner</th>\n",
       "      <th>emi</th>\n",
       "      <th>kilometers</th>\n",
       "      <th>mileage</th>\n",
       "      <th>seating</th>\n",
       "      <th>price</th>\n",
       "    </tr>\n",
       "  </thead>\n",
       "  <tbody>\n",
       "    <tr>\n",
       "      <th>0</th>\n",
       "      <td>CapitalUT</td>\n",
       "      <td>Delhi</td>\n",
       "      <td>2020</td>\n",
       "      <td>FORD</td>\n",
       "      <td>ECOSPORT</td>\n",
       "      <td>TITANIUM 1.5L DIESEL</td>\n",
       "      <td>Manual</td>\n",
       "      <td>Diesel</td>\n",
       "      <td>1st</td>\n",
       "      <td>15425</td>\n",
       "      <td>96075</td>\n",
       "      <td>9</td>\n",
       "      <td>5</td>\n",
       "      <td>789000</td>\n",
       "    </tr>\n",
       "    <tr>\n",
       "      <th>1</th>\n",
       "      <td>CapitalUT</td>\n",
       "      <td>Delhi</td>\n",
       "      <td>2016</td>\n",
       "      <td>Ford</td>\n",
       "      <td>Ecosport</td>\n",
       "      <td>1.5AMBIENTE TI VCT</td>\n",
       "      <td>Manual</td>\n",
       "      <td>Petrol</td>\n",
       "      <td>1st</td>\n",
       "      <td>10792</td>\n",
       "      <td>55017</td>\n",
       "      <td>9</td>\n",
       "      <td>5</td>\n",
       "      <td>552000</td>\n",
       "    </tr>\n",
       "    <tr>\n",
       "      <th>2</th>\n",
       "      <td>CapitalUT</td>\n",
       "      <td>Delhi</td>\n",
       "      <td>2018</td>\n",
       "      <td>FORD</td>\n",
       "      <td>ECOSPORT</td>\n",
       "      <td>AMBIENTE 1.5L DIESEL</td>\n",
       "      <td>Manual</td>\n",
       "      <td>Diesel</td>\n",
       "      <td>1st</td>\n",
       "      <td>13978</td>\n",
       "      <td>24931</td>\n",
       "      <td>9</td>\n",
       "      <td>5</td>\n",
       "      <td>715000</td>\n",
       "    </tr>\n",
       "    <tr>\n",
       "      <th>3</th>\n",
       "      <td>CapitalUT</td>\n",
       "      <td>Delhi</td>\n",
       "      <td>2019</td>\n",
       "      <td>FORD</td>\n",
       "      <td>ECOSPORT</td>\n",
       "      <td>TITANIUM 1.5L PETROL</td>\n",
       "      <td>Manual</td>\n",
       "      <td>Petrol</td>\n",
       "      <td>1st</td>\n",
       "      <td>15503</td>\n",
       "      <td>22270</td>\n",
       "      <td>9</td>\n",
       "      <td>5</td>\n",
       "      <td>793000</td>\n",
       "    </tr>\n",
       "    <tr>\n",
       "      <th>4</th>\n",
       "      <td>CapitalUT</td>\n",
       "      <td>Delhi</td>\n",
       "      <td>2015</td>\n",
       "      <td>Ford</td>\n",
       "      <td>Ecosport</td>\n",
       "      <td>TITANIUM 1.5L PETROL AT</td>\n",
       "      <td>Automatic</td>\n",
       "      <td>Petrol</td>\n",
       "      <td>2nd</td>\n",
       "      <td>10440</td>\n",
       "      <td>78906</td>\n",
       "      <td>9</td>\n",
       "      <td>5</td>\n",
       "      <td>534000</td>\n",
       "    </tr>\n",
       "    <tr>\n",
       "      <th>...</th>\n",
       "      <td>...</td>\n",
       "      <td>...</td>\n",
       "      <td>...</td>\n",
       "      <td>...</td>\n",
       "      <td>...</td>\n",
       "      <td>...</td>\n",
       "      <td>...</td>\n",
       "      <td>...</td>\n",
       "      <td>...</td>\n",
       "      <td>...</td>\n",
       "      <td>...</td>\n",
       "      <td>...</td>\n",
       "      <td>...</td>\n",
       "      <td>...</td>\n",
       "    </tr>\n",
       "    <tr>\n",
       "      <th>1810</th>\n",
       "      <td>UttarPradesh</td>\n",
       "      <td>Noida</td>\n",
       "      <td>2021</td>\n",
       "      <td>Tata</td>\n",
       "      <td>Tiago</td>\n",
       "      <td>XZ PETROL</td>\n",
       "      <td>Manual</td>\n",
       "      <td>Petrol</td>\n",
       "      <td>1st</td>\n",
       "      <td>12512</td>\n",
       "      <td>21726</td>\n",
       "      <td>11</td>\n",
       "      <td>5</td>\n",
       "      <td>640000</td>\n",
       "    </tr>\n",
       "    <tr>\n",
       "      <th>1811</th>\n",
       "      <td>UttarPradesh</td>\n",
       "      <td>Noida</td>\n",
       "      <td>2018</td>\n",
       "      <td>Tata</td>\n",
       "      <td>Tiago</td>\n",
       "      <td>XZA 1.2 REVOTRON</td>\n",
       "      <td>Automatic</td>\n",
       "      <td>Petrol</td>\n",
       "      <td>2nd</td>\n",
       "      <td>10459</td>\n",
       "      <td>27451</td>\n",
       "      <td>11</td>\n",
       "      <td>5</td>\n",
       "      <td>535000</td>\n",
       "    </tr>\n",
       "    <tr>\n",
       "      <th>1812</th>\n",
       "      <td>UttarPradesh</td>\n",
       "      <td>Noida</td>\n",
       "      <td>2022</td>\n",
       "      <td>Tata</td>\n",
       "      <td>Tiago</td>\n",
       "      <td>XZ+ CNG 1.2 RTN</td>\n",
       "      <td>Manual</td>\n",
       "      <td>CNG</td>\n",
       "      <td>1st</td>\n",
       "      <td>14799</td>\n",
       "      <td>30399</td>\n",
       "      <td>11</td>\n",
       "      <td>5</td>\n",
       "      <td>757000</td>\n",
       "    </tr>\n",
       "    <tr>\n",
       "      <th>1813</th>\n",
       "      <td>UttarPradesh</td>\n",
       "      <td>Noida</td>\n",
       "      <td>2018</td>\n",
       "      <td>Tata</td>\n",
       "      <td>Tiago</td>\n",
       "      <td>XZ 1.2 REVOTRON</td>\n",
       "      <td>Manual</td>\n",
       "      <td>Petrol</td>\n",
       "      <td>1st</td>\n",
       "      <td>9736</td>\n",
       "      <td>12249</td>\n",
       "      <td>11</td>\n",
       "      <td>5</td>\n",
       "      <td>498000</td>\n",
       "    </tr>\n",
       "    <tr>\n",
       "      <th>1814</th>\n",
       "      <td>UttarPradesh</td>\n",
       "      <td>Noida</td>\n",
       "      <td>2019</td>\n",
       "      <td>Tata</td>\n",
       "      <td>Tiago</td>\n",
       "      <td>XZA 1.2 REVOTRON</td>\n",
       "      <td>Automatic</td>\n",
       "      <td>Petrol</td>\n",
       "      <td>1st</td>\n",
       "      <td>10498</td>\n",
       "      <td>39417</td>\n",
       "      <td>11</td>\n",
       "      <td>5</td>\n",
       "      <td>537000</td>\n",
       "    </tr>\n",
       "  </tbody>\n",
       "</table>\n",
       "<p>1815 rows × 14 columns</p>\n",
       "</div>"
      ],
      "text/plain": [
       "             state   city  year  make     model                   series  \\\n",
       "0        CapitalUT  Delhi  2020  FORD  ECOSPORT     TITANIUM 1.5L DIESEL   \n",
       "1        CapitalUT  Delhi  2016  Ford  Ecosport       1.5AMBIENTE TI VCT   \n",
       "2        CapitalUT  Delhi  2018  FORD  ECOSPORT     AMBIENTE 1.5L DIESEL   \n",
       "3        CapitalUT  Delhi  2019  FORD  ECOSPORT     TITANIUM 1.5L PETROL   \n",
       "4        CapitalUT  Delhi  2015  Ford  Ecosport  TITANIUM 1.5L PETROL AT   \n",
       "...            ...    ...   ...   ...       ...                      ...   \n",
       "1810  UttarPradesh  Noida  2021  Tata     Tiago                XZ PETROL   \n",
       "1811  UttarPradesh  Noida  2018  Tata     Tiago         XZA 1.2 REVOTRON   \n",
       "1812  UttarPradesh  Noida  2022  Tata     Tiago          XZ+ CNG 1.2 RTN   \n",
       "1813  UttarPradesh  Noida  2018  Tata     Tiago          XZ 1.2 REVOTRON   \n",
       "1814  UttarPradesh  Noida  2019  Tata     Tiago         XZA 1.2 REVOTRON   \n",
       "\n",
       "     transmission    fuel owner    emi  kilometers  mileage  seating   price  \n",
       "0          Manual  Diesel  1st   15425       96075        9        5  789000  \n",
       "1          Manual  Petrol  1st   10792       55017        9        5  552000  \n",
       "2          Manual  Diesel  1st   13978       24931        9        5  715000  \n",
       "3          Manual  Petrol  1st   15503       22270        9        5  793000  \n",
       "4       Automatic  Petrol  2nd   10440       78906        9        5  534000  \n",
       "...           ...     ...   ...    ...         ...      ...      ...     ...  \n",
       "1810       Manual  Petrol  1st   12512       21726       11        5  640000  \n",
       "1811    Automatic  Petrol  2nd   10459       27451       11        5  535000  \n",
       "1812       Manual     CNG  1st   14799       30399       11        5  757000  \n",
       "1813       Manual  Petrol  1st    9736       12249       11        5  498000  \n",
       "1814    Automatic  Petrol  1st   10498       39417       11        5  537000  \n",
       "\n",
       "[1815 rows x 14 columns]"
      ]
     },
     "execution_count": 5,
     "metadata": {},
     "output_type": "execute_result"
    }
   ],
   "source": [
    "df"
   ]
  },
  {
   "cell_type": "code",
   "execution_count": 6,
   "id": "03ffe2a9",
   "metadata": {},
   "outputs": [],
   "source": [
    "df['make'] = df['make'].str.upper()\n",
    "df.drop_duplicates(inplace=True)"
   ]
  },
  {
   "cell_type": "code",
   "execution_count": 7,
   "id": "f67505ca",
   "metadata": {},
   "outputs": [
    {
     "data": {
      "text/html": [
       "<div>\n",
       "<style scoped>\n",
       "    .dataframe tbody tr th:only-of-type {\n",
       "        vertical-align: middle;\n",
       "    }\n",
       "\n",
       "    .dataframe tbody tr th {\n",
       "        vertical-align: top;\n",
       "    }\n",
       "\n",
       "    .dataframe thead th {\n",
       "        text-align: right;\n",
       "    }\n",
       "</style>\n",
       "<table border=\"1\" class=\"dataframe\">\n",
       "  <thead>\n",
       "    <tr style=\"text-align: right;\">\n",
       "      <th></th>\n",
       "      <th>state</th>\n",
       "      <th>city</th>\n",
       "      <th>year</th>\n",
       "      <th>make</th>\n",
       "      <th>model</th>\n",
       "      <th>series</th>\n",
       "      <th>transmission</th>\n",
       "      <th>fuel</th>\n",
       "      <th>owner</th>\n",
       "      <th>emi</th>\n",
       "      <th>kilometers</th>\n",
       "      <th>mileage</th>\n",
       "      <th>seating</th>\n",
       "      <th>price</th>\n",
       "    </tr>\n",
       "  </thead>\n",
       "  <tbody>\n",
       "    <tr>\n",
       "      <th>0</th>\n",
       "      <td>CapitalUT</td>\n",
       "      <td>Delhi</td>\n",
       "      <td>2020</td>\n",
       "      <td>FORD</td>\n",
       "      <td>ECOSPORT</td>\n",
       "      <td>TITANIUM 1.5L DIESEL</td>\n",
       "      <td>Manual</td>\n",
       "      <td>Diesel</td>\n",
       "      <td>1st</td>\n",
       "      <td>15425</td>\n",
       "      <td>96075</td>\n",
       "      <td>9</td>\n",
       "      <td>5</td>\n",
       "      <td>789000</td>\n",
       "    </tr>\n",
       "    <tr>\n",
       "      <th>1</th>\n",
       "      <td>CapitalUT</td>\n",
       "      <td>Delhi</td>\n",
       "      <td>2016</td>\n",
       "      <td>FORD</td>\n",
       "      <td>Ecosport</td>\n",
       "      <td>1.5AMBIENTE TI VCT</td>\n",
       "      <td>Manual</td>\n",
       "      <td>Petrol</td>\n",
       "      <td>1st</td>\n",
       "      <td>10792</td>\n",
       "      <td>55017</td>\n",
       "      <td>9</td>\n",
       "      <td>5</td>\n",
       "      <td>552000</td>\n",
       "    </tr>\n",
       "    <tr>\n",
       "      <th>2</th>\n",
       "      <td>CapitalUT</td>\n",
       "      <td>Delhi</td>\n",
       "      <td>2018</td>\n",
       "      <td>FORD</td>\n",
       "      <td>ECOSPORT</td>\n",
       "      <td>AMBIENTE 1.5L DIESEL</td>\n",
       "      <td>Manual</td>\n",
       "      <td>Diesel</td>\n",
       "      <td>1st</td>\n",
       "      <td>13978</td>\n",
       "      <td>24931</td>\n",
       "      <td>9</td>\n",
       "      <td>5</td>\n",
       "      <td>715000</td>\n",
       "    </tr>\n",
       "    <tr>\n",
       "      <th>3</th>\n",
       "      <td>CapitalUT</td>\n",
       "      <td>Delhi</td>\n",
       "      <td>2019</td>\n",
       "      <td>FORD</td>\n",
       "      <td>ECOSPORT</td>\n",
       "      <td>TITANIUM 1.5L PETROL</td>\n",
       "      <td>Manual</td>\n",
       "      <td>Petrol</td>\n",
       "      <td>1st</td>\n",
       "      <td>15503</td>\n",
       "      <td>22270</td>\n",
       "      <td>9</td>\n",
       "      <td>5</td>\n",
       "      <td>793000</td>\n",
       "    </tr>\n",
       "    <tr>\n",
       "      <th>4</th>\n",
       "      <td>CapitalUT</td>\n",
       "      <td>Delhi</td>\n",
       "      <td>2015</td>\n",
       "      <td>FORD</td>\n",
       "      <td>Ecosport</td>\n",
       "      <td>TITANIUM 1.5L PETROL AT</td>\n",
       "      <td>Automatic</td>\n",
       "      <td>Petrol</td>\n",
       "      <td>2nd</td>\n",
       "      <td>10440</td>\n",
       "      <td>78906</td>\n",
       "      <td>9</td>\n",
       "      <td>5</td>\n",
       "      <td>534000</td>\n",
       "    </tr>\n",
       "  </tbody>\n",
       "</table>\n",
       "</div>"
      ],
      "text/plain": [
       "       state   city  year  make     model                   series  \\\n",
       "0  CapitalUT  Delhi  2020  FORD  ECOSPORT     TITANIUM 1.5L DIESEL   \n",
       "1  CapitalUT  Delhi  2016  FORD  Ecosport       1.5AMBIENTE TI VCT   \n",
       "2  CapitalUT  Delhi  2018  FORD  ECOSPORT     AMBIENTE 1.5L DIESEL   \n",
       "3  CapitalUT  Delhi  2019  FORD  ECOSPORT     TITANIUM 1.5L PETROL   \n",
       "4  CapitalUT  Delhi  2015  FORD  Ecosport  TITANIUM 1.5L PETROL AT   \n",
       "\n",
       "  transmission    fuel owner    emi  kilometers  mileage  seating   price  \n",
       "0       Manual  Diesel  1st   15425       96075        9        5  789000  \n",
       "1       Manual  Petrol  1st   10792       55017        9        5  552000  \n",
       "2       Manual  Diesel  1st   13978       24931        9        5  715000  \n",
       "3       Manual  Petrol  1st   15503       22270        9        5  793000  \n",
       "4    Automatic  Petrol  2nd   10440       78906        9        5  534000  "
      ]
     },
     "execution_count": 7,
     "metadata": {},
     "output_type": "execute_result"
    }
   ],
   "source": [
    "df.head()"
   ]
  },
  {
   "cell_type": "code",
   "execution_count": 8,
   "id": "6b20cc0d",
   "metadata": {},
   "outputs": [
    {
     "name": "stdout",
     "output_type": "stream",
     "text": [
      "<class 'pandas.core.frame.DataFrame'>\n",
      "RangeIndex: 1815 entries, 0 to 1814\n",
      "Data columns (total 14 columns):\n",
      " #   Column        Non-Null Count  Dtype \n",
      "---  ------        --------------  ----- \n",
      " 0   state         1815 non-null   object\n",
      " 1   city          1815 non-null   object\n",
      " 2   year          1815 non-null   int64 \n",
      " 3   make          1815 non-null   object\n",
      " 4   model         1815 non-null   object\n",
      " 5   series        1799 non-null   object\n",
      " 6   transmission  1799 non-null   object\n",
      " 7   fuel          1815 non-null   object\n",
      " 8   owner         1815 non-null   object\n",
      " 9   emi           1815 non-null   int64 \n",
      " 10  kilometers    1815 non-null   int64 \n",
      " 11  mileage       1815 non-null   int64 \n",
      " 12  seating       1815 non-null   int64 \n",
      " 13  price         1815 non-null   int64 \n",
      "dtypes: int64(6), object(8)\n",
      "memory usage: 198.6+ KB\n"
     ]
    }
   ],
   "source": [
    "df.info()"
   ]
  },
  {
   "cell_type": "markdown",
   "id": "6d38410f",
   "metadata": {},
   "source": [
    "# 1. Basic Inspection: "
   ]
  },
  {
   "cell_type": "markdown",
   "id": "9064323c",
   "metadata": {},
   "source": [
    " *How many rows and columns are in the dataset?*"
   ]
  },
  {
   "cell_type": "code",
   "execution_count": 43,
   "id": "aef0d43b",
   "metadata": {},
   "outputs": [
    {
     "data": {
      "text/plain": [
       "(1815, 14)"
      ]
     },
     "execution_count": 43,
     "metadata": {},
     "output_type": "execute_result"
    }
   ],
   "source": [
    "df.shape"
   ]
  },
  {
   "cell_type": "markdown",
   "id": "ee7069ac",
   "metadata": {},
   "source": [
    "*What are the data types of each column?*"
   ]
  },
  {
   "cell_type": "code",
   "execution_count": 9,
   "id": "e7c79633",
   "metadata": {},
   "outputs": [
    {
     "name": "stdout",
     "output_type": "stream",
     "text": [
      "Data types of each column: state           object\n",
      "city            object\n",
      "year             int64\n",
      "make            object\n",
      "model           object\n",
      "series          object\n",
      "transmission    object\n",
      "fuel            object\n",
      "owner           object\n",
      "emi              int64\n",
      "kilometers       int64\n",
      "mileage          int64\n",
      "seating          int64\n",
      "price            int64\n",
      "dtype: object\n"
     ]
    }
   ],
   "source": [
    "print(\"Data types of each column:\",df.dtypes)"
   ]
  },
  {
   "cell_type": "markdown",
   "id": "4d2d4eeb",
   "metadata": {},
   "source": [
    "*Are there any missing values in the dataset? If yes, in which columns*"
   ]
  },
  {
   "cell_type": "code",
   "execution_count": 45,
   "id": "7a9ec04b",
   "metadata": {},
   "outputs": [
    {
     "data": {
      "text/plain": [
       "state            0\n",
       "city             0\n",
       "year             0\n",
       "make             0\n",
       "model            0\n",
       "series          16\n",
       "transmission    16\n",
       "fuel             0\n",
       "owner            0\n",
       "emi              0\n",
       "kilometers       0\n",
       "mileage          0\n",
       "seating          0\n",
       "price            0\n",
       "dtype: int64"
      ]
     },
     "execution_count": 45,
     "metadata": {},
     "output_type": "execute_result"
    }
   ],
   "source": [
    " df.isnull().sum()"
   ]
  },
  {
   "cell_type": "markdown",
   "id": "a9fdc41f",
   "metadata": {},
   "source": [
    "# 2. Summary Statistics: "
   ]
  },
  {
   "cell_type": "code",
   "execution_count": 11,
   "id": "47ddae85",
   "metadata": {},
   "outputs": [
    {
     "data": {
      "text/html": [
       "<div>\n",
       "<style scoped>\n",
       "    .dataframe tbody tr th:only-of-type {\n",
       "        vertical-align: middle;\n",
       "    }\n",
       "\n",
       "    .dataframe tbody tr th {\n",
       "        vertical-align: top;\n",
       "    }\n",
       "\n",
       "    .dataframe thead th {\n",
       "        text-align: right;\n",
       "    }\n",
       "</style>\n",
       "<table border=\"1\" class=\"dataframe\">\n",
       "  <thead>\n",
       "    <tr style=\"text-align: right;\">\n",
       "      <th></th>\n",
       "      <th>year</th>\n",
       "      <th>emi</th>\n",
       "      <th>kilometers</th>\n",
       "      <th>mileage</th>\n",
       "      <th>seating</th>\n",
       "      <th>price</th>\n",
       "    </tr>\n",
       "  </thead>\n",
       "  <tbody>\n",
       "    <tr>\n",
       "      <th>count</th>\n",
       "      <td>1815.000000</td>\n",
       "      <td>1815.000000</td>\n",
       "      <td>1815.000000</td>\n",
       "      <td>1815.000000</td>\n",
       "      <td>1815.000000</td>\n",
       "      <td>1.815000e+03</td>\n",
       "    </tr>\n",
       "    <tr>\n",
       "      <th>mean</th>\n",
       "      <td>2018.233609</td>\n",
       "      <td>13388.598347</td>\n",
       "      <td>37982.656198</td>\n",
       "      <td>14.132782</td>\n",
       "      <td>5.071625</td>\n",
       "      <td>6.920712e+05</td>\n",
       "    </tr>\n",
       "    <tr>\n",
       "      <th>std</th>\n",
       "      <td>2.504126</td>\n",
       "      <td>6050.751789</td>\n",
       "      <td>24772.552008</td>\n",
       "      <td>2.620103</td>\n",
       "      <td>0.299475</td>\n",
       "      <td>3.219937e+05</td>\n",
       "    </tr>\n",
       "    <tr>\n",
       "      <th>min</th>\n",
       "      <td>2010.000000</td>\n",
       "      <td>3715.000000</td>\n",
       "      <td>1.000000</td>\n",
       "      <td>9.000000</td>\n",
       "      <td>5.000000</td>\n",
       "      <td>1.900000e+05</td>\n",
       "    </tr>\n",
       "    <tr>\n",
       "      <th>25%</th>\n",
       "      <td>2016.500000</td>\n",
       "      <td>9638.000000</td>\n",
       "      <td>17524.000000</td>\n",
       "      <td>12.000000</td>\n",
       "      <td>5.000000</td>\n",
       "      <td>4.930000e+05</td>\n",
       "    </tr>\n",
       "    <tr>\n",
       "      <th>50%</th>\n",
       "      <td>2019.000000</td>\n",
       "      <td>11515.000000</td>\n",
       "      <td>32282.000000</td>\n",
       "      <td>15.000000</td>\n",
       "      <td>5.000000</td>\n",
       "      <td>5.890000e+05</td>\n",
       "    </tr>\n",
       "    <tr>\n",
       "      <th>75%</th>\n",
       "      <td>2020.000000</td>\n",
       "      <td>15267.000000</td>\n",
       "      <td>55947.500000</td>\n",
       "      <td>16.000000</td>\n",
       "      <td>5.000000</td>\n",
       "      <td>7.820000e+05</td>\n",
       "    </tr>\n",
       "    <tr>\n",
       "      <th>max</th>\n",
       "      <td>2022.000000</td>\n",
       "      <td>35765.000000</td>\n",
       "      <td>100245.000000</td>\n",
       "      <td>19.000000</td>\n",
       "      <td>7.000000</td>\n",
       "      <td>1.879000e+06</td>\n",
       "    </tr>\n",
       "  </tbody>\n",
       "</table>\n",
       "</div>"
      ],
      "text/plain": [
       "              year           emi     kilometers      mileage      seating  \\\n",
       "count  1815.000000   1815.000000    1815.000000  1815.000000  1815.000000   \n",
       "mean   2018.233609  13388.598347   37982.656198    14.132782     5.071625   \n",
       "std       2.504126   6050.751789   24772.552008     2.620103     0.299475   \n",
       "min    2010.000000   3715.000000       1.000000     9.000000     5.000000   \n",
       "25%    2016.500000   9638.000000   17524.000000    12.000000     5.000000   \n",
       "50%    2019.000000  11515.000000   32282.000000    15.000000     5.000000   \n",
       "75%    2020.000000  15267.000000   55947.500000    16.000000     5.000000   \n",
       "max    2022.000000  35765.000000  100245.000000    19.000000     7.000000   \n",
       "\n",
       "              price  \n",
       "count  1.815000e+03  \n",
       "mean   6.920712e+05  \n",
       "std    3.219937e+05  \n",
       "min    1.900000e+05  \n",
       "25%    4.930000e+05  \n",
       "50%    5.890000e+05  \n",
       "75%    7.820000e+05  \n",
       "max    1.879000e+06  "
      ]
     },
     "execution_count": 11,
     "metadata": {},
     "output_type": "execute_result"
    }
   ],
   "source": [
    "df.describe()"
   ]
  },
  {
   "cell_type": "markdown",
   "id": "dd948695",
   "metadata": {},
   "source": [
    "*What are the minimum, maximum, mean, and median values of numerical columns (price, kilometers, mileage,emi)?*"
   ]
  },
  {
   "cell_type": "code",
   "execution_count": 12,
   "id": "c7e20365",
   "metadata": {},
   "outputs": [
    {
     "name": "stdout",
     "output_type": "stream",
     "text": [
      "𝐒𝐮𝐦𝐦𝐚𝐫𝐲 𝐬𝐭𝐚𝐭𝐢𝐬𝐭𝐢𝐜𝐬 𝐟𝐨𝐫 𝐧𝐮𝐦𝐞𝐫𝐢𝐜𝐚𝐥 𝐜𝐨𝐥𝐮𝐦𝐧𝐬:\n"
     ]
    },
    {
     "data": {
      "text/html": [
       "<div>\n",
       "<style scoped>\n",
       "    .dataframe tbody tr th:only-of-type {\n",
       "        vertical-align: middle;\n",
       "    }\n",
       "\n",
       "    .dataframe tbody tr th {\n",
       "        vertical-align: top;\n",
       "    }\n",
       "\n",
       "    .dataframe thead th {\n",
       "        text-align: right;\n",
       "    }\n",
       "</style>\n",
       "<table border=\"1\" class=\"dataframe\">\n",
       "  <thead>\n",
       "    <tr style=\"text-align: right;\">\n",
       "      <th></th>\n",
       "      <th>price</th>\n",
       "      <th>kilometers</th>\n",
       "      <th>mileage</th>\n",
       "      <th>emi</th>\n",
       "    </tr>\n",
       "  </thead>\n",
       "  <tbody>\n",
       "    <tr>\n",
       "      <th>count</th>\n",
       "      <td>1.815000e+03</td>\n",
       "      <td>1815.000000</td>\n",
       "      <td>1815.000000</td>\n",
       "      <td>1815.000000</td>\n",
       "    </tr>\n",
       "    <tr>\n",
       "      <th>mean</th>\n",
       "      <td>6.920712e+05</td>\n",
       "      <td>37982.656198</td>\n",
       "      <td>14.132782</td>\n",
       "      <td>13388.598347</td>\n",
       "    </tr>\n",
       "    <tr>\n",
       "      <th>std</th>\n",
       "      <td>3.219937e+05</td>\n",
       "      <td>24772.552008</td>\n",
       "      <td>2.620103</td>\n",
       "      <td>6050.751789</td>\n",
       "    </tr>\n",
       "    <tr>\n",
       "      <th>min</th>\n",
       "      <td>1.900000e+05</td>\n",
       "      <td>1.000000</td>\n",
       "      <td>9.000000</td>\n",
       "      <td>3715.000000</td>\n",
       "    </tr>\n",
       "    <tr>\n",
       "      <th>25%</th>\n",
       "      <td>4.930000e+05</td>\n",
       "      <td>17524.000000</td>\n",
       "      <td>12.000000</td>\n",
       "      <td>9638.000000</td>\n",
       "    </tr>\n",
       "    <tr>\n",
       "      <th>50%</th>\n",
       "      <td>5.890000e+05</td>\n",
       "      <td>32282.000000</td>\n",
       "      <td>15.000000</td>\n",
       "      <td>11515.000000</td>\n",
       "    </tr>\n",
       "    <tr>\n",
       "      <th>75%</th>\n",
       "      <td>7.820000e+05</td>\n",
       "      <td>55947.500000</td>\n",
       "      <td>16.000000</td>\n",
       "      <td>15267.000000</td>\n",
       "    </tr>\n",
       "    <tr>\n",
       "      <th>max</th>\n",
       "      <td>1.879000e+06</td>\n",
       "      <td>100245.000000</td>\n",
       "      <td>19.000000</td>\n",
       "      <td>35765.000000</td>\n",
       "    </tr>\n",
       "  </tbody>\n",
       "</table>\n",
       "</div>"
      ],
      "text/plain": [
       "              price     kilometers      mileage           emi\n",
       "count  1.815000e+03    1815.000000  1815.000000   1815.000000\n",
       "mean   6.920712e+05   37982.656198    14.132782  13388.598347\n",
       "std    3.219937e+05   24772.552008     2.620103   6050.751789\n",
       "min    1.900000e+05       1.000000     9.000000   3715.000000\n",
       "25%    4.930000e+05   17524.000000    12.000000   9638.000000\n",
       "50%    5.890000e+05   32282.000000    15.000000  11515.000000\n",
       "75%    7.820000e+05   55947.500000    16.000000  15267.000000\n",
       "max    1.879000e+06  100245.000000    19.000000  35765.000000"
      ]
     },
     "execution_count": 12,
     "metadata": {},
     "output_type": "execute_result"
    }
   ],
   "source": [
    "numerical_cols = ['price', 'kilometers', 'mileage', 'emi']\n",
    "print(\"𝐒𝐮𝐦𝐦𝐚𝐫𝐲 𝐬𝐭𝐚𝐭𝐢𝐬𝐭𝐢𝐜𝐬 𝐟𝐨𝐫 𝐧𝐮𝐦𝐞𝐫𝐢𝐜𝐚𝐥 𝐜𝐨𝐥𝐮𝐦𝐧𝐬:\")\n",
    "df[numerical_cols].describe()"
   ]
  },
  {
   "cell_type": "markdown",
   "id": "ac76ee42",
   "metadata": {},
   "source": [
    "*What are the unique values and their counts for categorical columns (state, city, make, model, fuel, transmission, owner)?*"
   ]
  },
  {
   "cell_type": "code",
   "execution_count": 46,
   "id": "eab0adea",
   "metadata": {},
   "outputs": [
    {
     "name": "stdout",
     "output_type": "stream",
     "text": [
      "unique value of states are: ['CapitalUT' 'Maharashtra' 'WestBengal' 'Kerala' 'Haryana' 'UttarPradesh'\n",
      " 'Gujarat']\n",
      "value counts of states are: state\n",
      "UttarPradesh    638\n",
      "CapitalUT       335\n",
      "Haryana         312\n",
      "Maharashtra     215\n",
      "Gujarat         139\n",
      "WestBengal      120\n",
      "Kerala           56\n",
      "Name: count, dtype: int64\n",
      " \n",
      "unique value of city are: ['Delhi' 'Mumbai' 'Kolkata' 'Kochi' 'Gurgaon' 'Ghaziabad' 'Ahmedabad'\n",
      " 'ahmedabad' 'Noida']\n",
      "value counts of city are: city\n",
      "Delhi        335\n",
      "Ghaziabad    329\n",
      "Gurgaon      312\n",
      "Noida        309\n",
      "Mumbai       215\n",
      "Ahmedabad    136\n",
      "Kolkata      120\n",
      "Kochi         56\n",
      "ahmedabad      3\n",
      "Name: count, dtype: int64\n",
      " \n",
      "unique value of make are: ['FORD' 'Ford' 'Honda' 'HONDA' 'Hyundai' 'HYUNDAI' 'KIA' 'MAHINDRA'\n",
      " 'Mahindra' 'Maruti' 'Renault' 'RENAULT' 'TATA' 'Tata']\n",
      "value counts of make are: make\n",
      "Maruti      367\n",
      "Hyundai     275\n",
      "Honda       230\n",
      "Tata        186\n",
      "Renault     164\n",
      "HYUNDAI     116\n",
      "HONDA        89\n",
      "Ford         84\n",
      "KIA          77\n",
      "Mahindra     76\n",
      "TATA         53\n",
      "RENAULT      34\n",
      "MAHINDRA     33\n",
      "FORD         31\n",
      "Name: count, dtype: int64\n",
      " \n",
      "unique value of model are: ['ECOSPORT' 'Ecosport' 'FREESTYLE' 'Amaze' 'AMAZE' 'City' 'CITY' 'JAZZ'\n",
      " 'Jazz' 'ELITE I20' 'Elite i20' 'GRAND I10' 'Grand i10' 'NEW SANTRO'\n",
      " 'CARENS' 'SELTOS' 'SONET' 'SCORPIO' 'Scorpio' 'Thar' 'THAR' 'Baleno'\n",
      " 'BALENO' 'Swift' 'SWIFT' ' New Wagon-R' 'Kiger' 'KWID' 'Kwid' 'TRIBER'\n",
      " 'ALTROZ' 'NEXON' 'Tiago' 'TIAGO']\n",
      "value counts of model are: model\n",
      " New Wagon-R    112\n",
      "Swift           110\n",
      "NEW SANTRO      109\n",
      "Grand i10       102\n",
      "Baleno           93\n",
      "City             92\n",
      "ALTROZ           91\n",
      "NEXON            90\n",
      "Elite i20        89\n",
      "Amaze            77\n",
      "Kwid             76\n",
      "Thar             72\n",
      "Ecosport         70\n",
      "Jazz             50\n",
      "Kiger            50\n",
      "ELITE I20        48\n",
      "TRIBER           47\n",
      "Tiago            46\n",
      "GRAND I10        43\n",
      "SELTOS           39\n",
      "CITY             35\n",
      "SONET            34\n",
      "JAZZ             33\n",
      "ECOSPORT         32\n",
      "AMAZE            32\n",
      "SWIFT            28\n",
      "KWID             25\n",
      "BALENO           24\n",
      "SCORPIO          17\n",
      "THAR             16\n",
      "FREESTYLE        13\n",
      "TIAGO            12\n",
      "Scorpio           4\n",
      "CARENS            4\n",
      "Name: count, dtype: int64\n",
      " \n",
      "unique value of fuel are: ['Diesel' 'Petrol' 'CNG']\n",
      "value counts of fuel are: fuel\n",
      "Petrol    1434\n",
      "Diesel     191\n",
      "CNG        190\n",
      "Name: count, dtype: int64\n",
      " \n",
      "unique value of transmission are: ['Manual' 'Automatic' nan 'TITANIUM 1.5L PETROL AT' 'TITANIUM 1.5L DIESEL'\n",
      " '1.5AMBIENTE TI VCT' 'TITANIUM 1.5L PETROL' '1.5 TITANIUM TI VCT AT'\n",
      " '1.5 TITANIUM TI VCT' '1.5TITANIUM TDCI'\n",
      " '1.5 TITANIUM SIGNATURE TI VCT (SUNROOF)' '1.0 TREND+ (ECOBOOST)'\n",
      " 'AMBIENTE 1.5L DIESEL' 'TREND 1.5L PETROL' 'FLAIR EDITION 1.2 TI VCT'\n",
      " 'TREND+ 1.2 TI-VCT']\n",
      "value counts of transmission are: transmission\n",
      "Manual                                     1420\n",
      "Automatic                                   355\n",
      "1.5 TITANIUM TI VCT                           4\n",
      "1.5TITANIUM TDCI                              4\n",
      "1.5 TITANIUM TI VCT AT                        3\n",
      "TITANIUM 1.5L PETROL AT                       2\n",
      "FLAIR EDITION 1.2 TI VCT                      2\n",
      "TREND+ 1.2 TI-VCT                             2\n",
      "TITANIUM 1.5L DIESEL                          1\n",
      "1.5AMBIENTE TI VCT                            1\n",
      "TITANIUM 1.5L PETROL                          1\n",
      "1.5 TITANIUM SIGNATURE TI VCT (SUNROOF)       1\n",
      "1.0 TREND+ (ECOBOOST)                         1\n",
      "AMBIENTE 1.5L DIESEL                          1\n",
      "TREND 1.5L PETROL                             1\n",
      "Name: count, dtype: int64\n",
      " \n",
      "unique value of owner are: ['1st ' '2nd ']\n",
      "value counts of owner are: owner\n",
      "1st     1567\n",
      "2nd      248\n",
      "Name: count, dtype: int64\n"
     ]
    }
   ],
   "source": [
    "print(\"unique value of states are:\" ,df[\"state\"].unique())\n",
    "print(\"value counts of states are:\" ,df[\"state\"].value_counts())\n",
    "print(\" \")\n",
    "print(\"unique value of city are:\" ,df[\"city\"].unique())\n",
    "print(\"value counts of city are:\" ,df[\"city\"].value_counts())\n",
    "print(\" \")\n",
    "print(\"unique value of make are:\" ,df[\"make\"].unique())\n",
    "print(\"value counts of make are:\" ,df[\"make\"].value_counts())\n",
    "print(\" \")\n",
    "print(\"unique value of model are:\" ,df[\"model\"].unique())\n",
    "print(\"value counts of model are:\" ,df[\"model\"].value_counts())\n",
    "print(\" \")\n",
    "print(\"unique value of fuel are:\" ,df[\"fuel\"].unique())\n",
    "print(\"value counts of fuel are:\" ,df[\"fuel\"].value_counts())\n",
    "print(\" \")\n",
    "print(\"unique value of transmission are:\" ,df[\"transmission\"].unique())\n",
    "print(\"value counts of transmission are:\" ,df[\"transmission\"].value_counts())\n",
    "print(\" \")\n",
    "print(\"unique value of owner are:\" ,df[\"owner\"].unique())\n",
    "print(\"value counts of owner are:\" ,df[\"owner\"].value_counts())\n",
    "\n"
   ]
  },
  {
   "cell_type": "markdown",
   "id": "8cb6b883",
   "metadata": {},
   "source": [
    "# 3. Missing Values Analysis"
   ]
  },
  {
   "cell_type": "markdown",
   "id": "e9592843",
   "metadata": {},
   "source": [
    "*Which columns have missing values, and what percentage of the data is missing?*"
   ]
  },
  {
   "cell_type": "code",
   "execution_count": 14,
   "id": "ac5ee180",
   "metadata": {
    "scrolled": true
   },
   "outputs": [
    {
     "name": "stdout",
     "output_type": "stream",
     "text": [
      "Percentage of missing values in each column:\n",
      "state           0.000000\n",
      "city            0.000000\n",
      "year            0.000000\n",
      "make            0.000000\n",
      "model           0.000000\n",
      "series          0.881543\n",
      "transmission    0.881543\n",
      "fuel            0.000000\n",
      "owner           0.000000\n",
      "emi             0.000000\n",
      "kilometers      0.000000\n",
      "mileage         0.000000\n",
      "seating         0.000000\n",
      "price           0.000000\n",
      "dtype: float64\n"
     ]
    }
   ],
   "source": [
    "print(\"Percentage of missing values in each column:\")\n",
    "missing_data=df.isnull().mean()*100\n",
    "print(missing_data)"
   ]
  },
  {
   "cell_type": "code",
   "execution_count": 15,
   "id": "8fe317d7",
   "metadata": {},
   "outputs": [
    {
     "data": {
      "text/plain": [
       "series          0.881543\n",
       "transmission    0.881543\n",
       "dtype: float64"
      ]
     },
     "execution_count": 15,
     "metadata": {},
     "output_type": "execute_result"
    }
   ],
   "source": [
    "missing_data=missing_data[missing_data>0]\n",
    "missing_data"
   ]
  },
  {
   "cell_type": "code",
   "execution_count": 17,
   "id": "8276b5bd",
   "metadata": {},
   "outputs": [
    {
     "name": "stdout",
     "output_type": "stream",
     "text": [
      "columns with missing value and their percentage: series          0.881543\n",
      "transmission    0.881543\n",
      "dtype: float64\n"
     ]
    }
   ],
   "source": [
    "print(\"columns with missing value and their percentage:\",\n",
    "      missing_data)"
   ]
  },
  {
   "cell_type": "markdown",
   "id": "82147107",
   "metadata": {},
   "source": [
    "*Suggest and apply appropriate strategies to handle missing values (e.g., imputation, dropping).*\n",
    "\n",
    "#Drop rows with missing value\n"
   ]
  },
  {
   "cell_type": "code",
   "execution_count": 18,
   "id": "65eb0173",
   "metadata": {},
   "outputs": [
    {
     "name": "stdout",
     "output_type": "stream",
     "text": [
      "\n",
      "After Dropping Rows with missing values:\n",
      "             state   city  year  make     model                   series  \\\n",
      "0        CapitalUT  Delhi  2020  FORD  ECOSPORT     TITANIUM 1.5L DIESEL   \n",
      "1        CapitalUT  Delhi  2016  FORD  Ecosport       1.5AMBIENTE TI VCT   \n",
      "2        CapitalUT  Delhi  2018  FORD  ECOSPORT     AMBIENTE 1.5L DIESEL   \n",
      "3        CapitalUT  Delhi  2019  FORD  ECOSPORT     TITANIUM 1.5L PETROL   \n",
      "4        CapitalUT  Delhi  2015  FORD  Ecosport  TITANIUM 1.5L PETROL AT   \n",
      "...            ...    ...   ...   ...       ...                      ...   \n",
      "1810  UttarPradesh  Noida  2021  TATA     Tiago                XZ PETROL   \n",
      "1811  UttarPradesh  Noida  2018  TATA     Tiago         XZA 1.2 REVOTRON   \n",
      "1812  UttarPradesh  Noida  2022  TATA     Tiago          XZ+ CNG 1.2 RTN   \n",
      "1813  UttarPradesh  Noida  2018  TATA     Tiago          XZ 1.2 REVOTRON   \n",
      "1814  UttarPradesh  Noida  2019  TATA     Tiago         XZA 1.2 REVOTRON   \n",
      "\n",
      "     transmission    fuel owner    emi  kilometers  mileage  seating   price  \n",
      "0          Manual  Diesel  1st   15425       96075        9        5  789000  \n",
      "1          Manual  Petrol  1st   10792       55017        9        5  552000  \n",
      "2          Manual  Diesel  1st   13978       24931        9        5  715000  \n",
      "3          Manual  Petrol  1st   15503       22270        9        5  793000  \n",
      "4       Automatic  Petrol  2nd   10440       78906        9        5  534000  \n",
      "...           ...     ...   ...    ...         ...      ...      ...     ...  \n",
      "1810       Manual  Petrol  1st   12512       21726       11        5  640000  \n",
      "1811    Automatic  Petrol  2nd   10459       27451       11        5  535000  \n",
      "1812       Manual     CNG  1st   14799       30399       11        5  757000  \n",
      "1813       Manual  Petrol  1st    9736       12249       11        5  498000  \n",
      "1814    Automatic  Petrol  1st   10498       39417       11        5  537000  \n",
      "\n",
      "[1799 rows x 14 columns]\n"
     ]
    }
   ],
   "source": [
    "df_dropped=df.dropna()\n",
    "print(\"\\nAfter Dropping Rows with missing values:\")\n",
    "print(df_dropped)"
   ]
  },
  {
   "cell_type": "code",
   "execution_count": 19,
   "id": "96f1dbae",
   "metadata": {},
   "outputs": [
    {
     "data": {
      "text/html": [
       "<div>\n",
       "<style scoped>\n",
       "    .dataframe tbody tr th:only-of-type {\n",
       "        vertical-align: middle;\n",
       "    }\n",
       "\n",
       "    .dataframe tbody tr th {\n",
       "        vertical-align: top;\n",
       "    }\n",
       "\n",
       "    .dataframe thead th {\n",
       "        text-align: right;\n",
       "    }\n",
       "</style>\n",
       "<table border=\"1\" class=\"dataframe\">\n",
       "  <thead>\n",
       "    <tr style=\"text-align: right;\">\n",
       "      <th></th>\n",
       "      <th>state</th>\n",
       "      <th>city</th>\n",
       "      <th>year</th>\n",
       "      <th>make</th>\n",
       "      <th>model</th>\n",
       "      <th>series</th>\n",
       "      <th>transmission</th>\n",
       "      <th>fuel</th>\n",
       "      <th>owner</th>\n",
       "      <th>emi</th>\n",
       "      <th>kilometers</th>\n",
       "      <th>mileage</th>\n",
       "      <th>seating</th>\n",
       "      <th>price</th>\n",
       "    </tr>\n",
       "  </thead>\n",
       "  <tbody>\n",
       "    <tr>\n",
       "      <th>0</th>\n",
       "      <td>CapitalUT</td>\n",
       "      <td>Delhi</td>\n",
       "      <td>2020</td>\n",
       "      <td>FORD</td>\n",
       "      <td>ECOSPORT</td>\n",
       "      <td>TITANIUM 1.5L DIESEL</td>\n",
       "      <td>Manual</td>\n",
       "      <td>Diesel</td>\n",
       "      <td>1st</td>\n",
       "      <td>15425</td>\n",
       "      <td>96075</td>\n",
       "      <td>9</td>\n",
       "      <td>5</td>\n",
       "      <td>789000</td>\n",
       "    </tr>\n",
       "    <tr>\n",
       "      <th>1</th>\n",
       "      <td>CapitalUT</td>\n",
       "      <td>Delhi</td>\n",
       "      <td>2016</td>\n",
       "      <td>FORD</td>\n",
       "      <td>Ecosport</td>\n",
       "      <td>1.5AMBIENTE TI VCT</td>\n",
       "      <td>Manual</td>\n",
       "      <td>Petrol</td>\n",
       "      <td>1st</td>\n",
       "      <td>10792</td>\n",
       "      <td>55017</td>\n",
       "      <td>9</td>\n",
       "      <td>5</td>\n",
       "      <td>552000</td>\n",
       "    </tr>\n",
       "    <tr>\n",
       "      <th>2</th>\n",
       "      <td>CapitalUT</td>\n",
       "      <td>Delhi</td>\n",
       "      <td>2018</td>\n",
       "      <td>FORD</td>\n",
       "      <td>ECOSPORT</td>\n",
       "      <td>AMBIENTE 1.5L DIESEL</td>\n",
       "      <td>Manual</td>\n",
       "      <td>Diesel</td>\n",
       "      <td>1st</td>\n",
       "      <td>13978</td>\n",
       "      <td>24931</td>\n",
       "      <td>9</td>\n",
       "      <td>5</td>\n",
       "      <td>715000</td>\n",
       "    </tr>\n",
       "    <tr>\n",
       "      <th>3</th>\n",
       "      <td>CapitalUT</td>\n",
       "      <td>Delhi</td>\n",
       "      <td>2019</td>\n",
       "      <td>FORD</td>\n",
       "      <td>ECOSPORT</td>\n",
       "      <td>TITANIUM 1.5L PETROL</td>\n",
       "      <td>Manual</td>\n",
       "      <td>Petrol</td>\n",
       "      <td>1st</td>\n",
       "      <td>15503</td>\n",
       "      <td>22270</td>\n",
       "      <td>9</td>\n",
       "      <td>5</td>\n",
       "      <td>793000</td>\n",
       "    </tr>\n",
       "    <tr>\n",
       "      <th>4</th>\n",
       "      <td>CapitalUT</td>\n",
       "      <td>Delhi</td>\n",
       "      <td>2015</td>\n",
       "      <td>FORD</td>\n",
       "      <td>Ecosport</td>\n",
       "      <td>TITANIUM 1.5L PETROL AT</td>\n",
       "      <td>Automatic</td>\n",
       "      <td>Petrol</td>\n",
       "      <td>2nd</td>\n",
       "      <td>10440</td>\n",
       "      <td>78906</td>\n",
       "      <td>9</td>\n",
       "      <td>5</td>\n",
       "      <td>534000</td>\n",
       "    </tr>\n",
       "  </tbody>\n",
       "</table>\n",
       "</div>"
      ],
      "text/plain": [
       "       state   city  year  make     model                   series  \\\n",
       "0  CapitalUT  Delhi  2020  FORD  ECOSPORT     TITANIUM 1.5L DIESEL   \n",
       "1  CapitalUT  Delhi  2016  FORD  Ecosport       1.5AMBIENTE TI VCT   \n",
       "2  CapitalUT  Delhi  2018  FORD  ECOSPORT     AMBIENTE 1.5L DIESEL   \n",
       "3  CapitalUT  Delhi  2019  FORD  ECOSPORT     TITANIUM 1.5L PETROL   \n",
       "4  CapitalUT  Delhi  2015  FORD  Ecosport  TITANIUM 1.5L PETROL AT   \n",
       "\n",
       "  transmission    fuel owner    emi  kilometers  mileage  seating   price  \n",
       "0       Manual  Diesel  1st   15425       96075        9        5  789000  \n",
       "1       Manual  Petrol  1st   10792       55017        9        5  552000  \n",
       "2       Manual  Diesel  1st   13978       24931        9        5  715000  \n",
       "3       Manual  Petrol  1st   15503       22270        9        5  793000  \n",
       "4    Automatic  Petrol  2nd   10440       78906        9        5  534000  "
      ]
     },
     "execution_count": 19,
     "metadata": {},
     "output_type": "execute_result"
    }
   ],
   "source": [
    "df.head(5)"
   ]
  },
  {
   "cell_type": "code",
   "execution_count": 20,
   "id": "a9668ee9",
   "metadata": {},
   "outputs": [
    {
     "data": {
      "text/plain": [
       "(1815, 14)"
      ]
     },
     "execution_count": 20,
     "metadata": {},
     "output_type": "execute_result"
    }
   ],
   "source": [
    "df.shape"
   ]
  },
  {
   "cell_type": "code",
   "execution_count": 21,
   "id": "bed7fbd8",
   "metadata": {},
   "outputs": [
    {
     "data": {
      "text/plain": [
       "(1799, 14)"
      ]
     },
     "execution_count": 21,
     "metadata": {},
     "output_type": "execute_result"
    }
   ],
   "source": [
    "df_dropped.shape"
   ]
  },
  {
   "cell_type": "markdown",
   "id": "78fb1e86",
   "metadata": {},
   "source": [
    "# 4. Numerical Data: \n",
    "     "
   ]
  },
  {
   "cell_type": "markdown",
   "id": "8b169438",
   "metadata": {},
   "source": [
    "*Plot the distribution of the price, kilometers, and mileage columns.* "
   ]
  },
  {
   "cell_type": "code",
   "execution_count": 30,
   "id": "bf4b4806",
   "metadata": {},
   "outputs": [
    {
     "data": {
      "text/plain": [
       "<Axes: xlabel='price', ylabel='Density'>"
      ]
     },
     "execution_count": 30,
     "metadata": {},
     "output_type": "execute_result"
    },
    {
     "data": {
      "image/png": "[encoded data removed]",
      "text/plain": [
       "<Figure size 640x480 with 1 Axes>"
      ]
     },
     "metadata": {},
     "output_type": "display_data"
    }
   ],
   "source": [
    "sns.kdeplot(data=df,x=\"price\")"
   ]
  },
  {
   "cell_type": "code",
   "execution_count": 32,
   "id": "fd4a9d7c",
   "metadata": {},
   "outputs": [
    {
     "data": {
      "text/plain": [
       "<Axes: xlabel='kilometers', ylabel='Density'>"
      ]
     },
     "execution_count": 32,
     "metadata": {},
     "output_type": "execute_result"
    },
    {
     "data": {
      "image/png": "[encoded data removed]",
      "text/plain": [
       "<Figure size 640x480 with 1 Axes>"
      ]
     },
     "metadata": {},
     "output_type": "display_data"
    }
   ],
   "source": [
    "sns.kdeplot(data=df,x=\"kilometers\")"
   ]
  },
  {
   "cell_type": "code",
   "execution_count": 33,
   "id": "23f730bd",
   "metadata": {},
   "outputs": [
    {
     "data": {
      "text/plain": [
       "<Axes: xlabel='mileage', ylabel='Density'>"
      ]
     },
     "execution_count": 33,
     "metadata": {},
     "output_type": "execute_result"
    },
    {
     "data": {
      "image/png": "[encoded data removed]",
      "text/plain": [
       "<Figure size 640x480 with 1 Axes>"
      ]
     },
     "metadata": {},
     "output_type": "display_data"
    }
   ],
   "source": [
    "sns.kdeplot(data=df,x=\"mileage\")"
   ]
  },
  {
   "cell_type": "markdown",
   "id": "0e6b3b75",
   "metadata": {},
   "source": [
    " *Identify and interpret any skewness in these distributions.*"
   ]
  },
  {
   "cell_type": "code",
   "execution_count": 22,
   "id": "68de314c",
   "metadata": {},
   "outputs": [
    {
     "name": "stdout",
     "output_type": "stream",
     "text": [
      "\n",
      "Skewness of numerical columns:\n",
      "price         1.559722\n",
      "kilometers    0.630941\n",
      "mileage      -0.241403\n",
      "dtype: float64\n"
     ]
    }
   ],
   "source": [
    "skewness=df[[\"price\",\"kilometers\",\"mileage\"]].skew()\n",
    "print(\"\\nSkewness of numerical columns:\")\n",
    "print(skewness)"
   ]
  },
  {
   "cell_type": "markdown",
   "id": "8a3c5421",
   "metadata": {},
   "source": [
    "# 5. Categorical Data: "
   ]
  },
  {
   "cell_type": "markdown",
   "id": "d3135d2f",
   "metadata": {},
   "source": [
    " *What are the top 5 most common car makes and models?*"
   ]
  },
  {
   "cell_type": "code",
   "execution_count": 25,
   "id": "1da9ff1e",
   "metadata": {},
   "outputs": [
    {
     "name": "stdout",
     "output_type": "stream",
     "text": [
      "𝐓𝐨𝐩 𝟓 𝐦𝐨𝐬𝐭 𝐜𝐨𝐦𝐦𝐨𝐧 𝐜𝐚𝐫 𝐦𝐚𝐤𝐞𝐬:\n",
      "make\n",
      "HYUNDAI    391\n",
      "MARUTI     367\n",
      "HONDA      319\n",
      "TATA       239\n",
      "RENAULT    198\n",
      "Name: count, dtype: int64\n"
     ]
    }
   ],
   "source": [
    "print(\"𝐓𝐨𝐩 𝟓 𝐦𝐨𝐬𝐭 𝐜𝐨𝐦𝐦𝐨𝐧 𝐜𝐚𝐫 𝐦𝐚𝐤𝐞𝐬:\")\n",
    "print(df[\"make\"].value_counts().head(5))"
   ]
  },
  {
   "cell_type": "code",
   "execution_count": 26,
   "id": "1782430c",
   "metadata": {},
   "outputs": [
    {
     "name": "stdout",
     "output_type": "stream",
     "text": [
      "𝐓𝐨𝐩 𝟓 𝐦𝐨𝐬𝐭 𝐜𝐨𝐦𝐦𝐨𝐧 𝐜𝐚𝐫 model:\n",
      "model\n",
      " New Wagon-R    112\n",
      "Swift           110\n",
      "NEW SANTRO      109\n",
      "Grand i10       102\n",
      "Baleno           93\n",
      "Name: count, dtype: int64\n"
     ]
    }
   ],
   "source": [
    "print(\"𝐓𝐨𝐩 𝟓 𝐦𝐨𝐬𝐭 𝐜𝐨𝐦𝐦𝐨𝐧 𝐜𝐚𝐫 model:\")\n",
    "print(df[\"model\"].value_counts().head(5))\n"
   ]
  },
  {
   "cell_type": "markdown",
   "id": "90b5ecd8",
   "metadata": {},
   "source": [
    "*Visualize the frequency distribution of the fuel, transmission, and owner \n",
    "columns.* "
   ]
  },
  {
   "cell_type": "code",
   "execution_count": 36,
   "id": "99a6a0c6",
   "metadata": {},
   "outputs": [
    {
     "data": {
      "image/png": "[encoded data removed]",
      "text/plain": [
       "<Figure size 1600x1500 with 1 Axes>"
      ]
     },
     "metadata": {},
     "output_type": "display_data"
    },
    {
     "data": {
      "image/png": "[encoded data removed]",
      "text/plain": [
       "<Figure size 1600x1500 with 1 Axes>"
      ]
     },
     "metadata": {},
     "output_type": "display_data"
    },
    {
     "data": {
      "image/png": "[encoded data removed]",
      "text/plain": [
       "<Figure size 1600x1500 with 1 Axes>"
      ]
     },
     "metadata": {},
     "output_type": "display_data"
    }
   ],
   "source": [
    "for col in ['fuel', 'transmission', 'owner']:\n",
    "    plt.figure(figsize=(16, 15))\n",
    "    sns.countplot(x=col, data=df)\n",
    "    plt.title(f\"Frequency Distribution of {col}\")\n",
    "    plt.xlabel(col)\n",
    "    plt.ylabel(\"Count\")\n",
    "    plt.show()"
   ]
  },
  {
   "cell_type": "markdown",
   "id": "1d78965c",
   "metadata": {},
   "source": [
    "# 6. Numerical vs. Numerical:"
   ]
  },
  {
   "cell_type": "markdown",
   "id": "bbf2aed2",
   "metadata": {},
   "source": [
    "*What is the relationship between price and kilometers? Use scatter plots \n",
    "and calculate the correlation coefficient.*"
   ]
  },
  {
   "cell_type": "code",
   "execution_count": 49,
   "id": "69ac8387",
   "metadata": {},
   "outputs": [
    {
     "name": "stdout",
     "output_type": "stream",
     "text": [
      "The correlation between price and likometers is: -0.4213071508614418\n"
     ]
    },
    {
     "data": {
      "image/png": "[encoded data removed]",
      "text/plain": [
       "<Figure size 640x480 with 1 Axes>"
      ]
     },
     "metadata": {},
     "output_type": "display_data"
    }
   ],
   "source": [
    "sns.scatterplot(data=df,x=\"price\",y=\"kilometers\")\n",
    "print(\"The correlation between price and likometers is:\", df[\"price\"].corr(df[\"kilometers\"]))\n",
    "     "
   ]
  },
  {
   "cell_type": "markdown",
   "id": "0fd46307",
   "metadata": {},
   "source": [
    "*Does higher mileage indicate lower prices? Analyze the relationship between \n",
    "mileage and price. "
   ]
  },
  {
   "cell_type": "code",
   "execution_count": 37,
   "id": "48c9d7d5",
   "metadata": {},
   "outputs": [
    {
     "name": "stdout",
     "output_type": "stream",
     "text": [
      "The correlation between price and likometers is: -0.3195211371594323\n"
     ]
    },
    {
     "data": {
      "image/png": "[encoded data removed]",
      "text/plain": [
       "<Figure size 640x480 with 1 Axes>"
      ]
     },
     "metadata": {},
     "output_type": "display_data"
    }
   ],
   "source": [
    "sns.lineplot(data=df,y=\"price\",x=\"mileage\")\n",
    "print(\"The correlation between price and likometers is:\", df[\"price\"].corr(df[\"mileage\"]))"
   ]
  },
  {
   "cell_type": "markdown",
   "id": "8e78e393",
   "metadata": {},
   "source": [
    "# 7. Categorical vs. Numerical: "
   ]
  },
  {
   "cell_type": "markdown",
   "id": "8ac7c683",
   "metadata": {},
   "source": [
    "*Compare the average price of cars based on their fuel type.*"
   ]
  },
  {
   "cell_type": "code",
   "execution_count": 51,
   "id": "54400edb",
   "metadata": {},
   "outputs": [
    {
     "data": {
      "text/plain": [
       "<Axes: xlabel='fuel', ylabel='price'>"
      ]
     },
     "execution_count": 51,
     "metadata": {},
     "output_type": "execute_result"
    },
    {
     "data": {
      "image/png": "[encoded data removed]",
      "text/plain": [
       "<Figure size 640x480 with 1 Axes>"
      ]
     },
     "metadata": {},
     "output_type": "display_data"
    }
   ],
   "source": [
    "sns.barplot(data=df,y=\"price\",x=\"fuel\")\n"
   ]
  },
  {
   "cell_type": "markdown",
   "id": "c5172fc6",
   "metadata": {},
   "source": [
    "*How does the transmission type affect the average price?*"
   ]
  },
  {
   "cell_type": "code",
   "execution_count": 52,
   "id": "9be6df5e",
   "metadata": {},
   "outputs": [
    {
     "data": {
      "text/plain": [
       "<Axes: xlabel='price', ylabel='transmission'>"
      ]
     },
     "execution_count": 52,
     "metadata": {},
     "output_type": "execute_result"
    },
    {
     "data": {
      "image/png": "[encoded data removed]",
      "text/plain": [
       "<Figure size 640x480 with 1 Axes>"
      ]
     },
     "metadata": {},
     "output_type": "display_data"
    }
   ],
   "source": [
    "sns.barplot(data=df,x=\"price\",y=\"transmission\")"
   ]
  },
  {
   "cell_type": "markdown",
   "id": "a879c1ea",
   "metadata": {},
   "source": [
    "*What is the average price for each car make and model?*"
   ]
  },
  {
   "cell_type": "code",
   "execution_count": 53,
   "id": "b23a9046",
   "metadata": {},
   "outputs": [
    {
     "data": {
      "text/plain": [
       "make\n",
       "FORD        6.893548e+05\n",
       "Ford        6.609167e+05\n",
       "HONDA       6.280000e+05\n",
       "HYUNDAI     5.112224e+05\n",
       "Honda       6.256261e+05\n",
       "Hyundai     5.261745e+05\n",
       "KIA         1.381896e+06\n",
       "MAHINDRA    1.544939e+06\n",
       "Mahindra    1.504145e+06\n",
       "Maruti      5.348022e+05\n",
       "RENAULT     5.077353e+05\n",
       "Renault     6.433415e+05\n",
       "TATA        7.119434e+05\n",
       "Tata        7.900860e+05\n",
       "Name: price, dtype: float64"
      ]
     },
     "execution_count": 53,
     "metadata": {},
     "output_type": "execute_result"
    }
   ],
   "source": [
    "df.groupby(\"make\")[\"price\"].mean()    "
   ]
  },
  {
   "cell_type": "code",
   "execution_count": 54,
   "id": "095a7017",
   "metadata": {},
   "outputs": [
    {
     "data": {
      "text/plain": [
       "model\n",
       " New Wagon-R    5.557946e+05\n",
       "ALTROZ          7.830769e+05\n",
       "AMAZE           5.313125e+05\n",
       "Amaze           5.120519e+05\n",
       "BALENO          6.305833e+05\n",
       "Baleno          5.920581e+05\n",
       "CARENS          1.672000e+06\n",
       "CITY            7.356571e+05\n",
       "City            7.582391e+05\n",
       "ECOSPORT        6.863438e+05\n",
       "ELITE I20       5.549333e+05\n",
       "Ecosport        6.696143e+05\n",
       "Elite i20       5.933258e+05\n",
       "FREESTYLE       6.193077e+05\n",
       "GRAND I10       4.567209e+05\n",
       "Grand i10       4.609608e+05\n",
       "JAZZ            6.014545e+05\n",
       "Jazz            5.600400e+05\n",
       "KWID            3.720400e+05\n",
       "Kiger           9.543000e+05\n",
       "Kwid            4.041579e+05\n",
       "NEW SANTRO      5.311927e+05\n",
       "NEXON           9.121000e+05\n",
       "SCORPIO         1.552235e+06\n",
       "SELTOS          1.493462e+06\n",
       "SONET           1.219794e+06\n",
       "SWIFT           5.152500e+05\n",
       "Scorpio         1.376000e+06\n",
       "Swift           4.491000e+05\n",
       "THAR            1.537188e+06\n",
       "TIAGO           5.212500e+05\n",
       "TRIBER          7.455106e+05\n",
       "Thar            1.511264e+06\n",
       "Tiago           5.453261e+05\n",
       "Name: price, dtype: float64"
      ]
     },
     "execution_count": 54,
     "metadata": {},
     "output_type": "execute_result"
    }
   ],
   "source": [
    "df.groupby(\"model\")[\"price\"].mean()"
   ]
  },
  {
   "cell_type": "markdown",
   "id": "3aa6d8f6",
   "metadata": {},
   "source": [
    "# 8.Categorical vs. Categorical:"
   ]
  },
  {
   "cell_type": "markdown",
   "id": "c546c9fe",
   "metadata": {},
   "source": [
    " *What is the distribution of fuel types across different transmission categories?*"
   ]
  },
  {
   "cell_type": "code",
   "execution_count": 39,
   "id": "64838405",
   "metadata": {},
   "outputs": [
    {
     "data": {
      "text/plain": [
       "<Axes: xlabel='count', ylabel='transmission'>"
      ]
     },
     "execution_count": 39,
     "metadata": {},
     "output_type": "execute_result"
    },
    {
     "data": {
      "image/png": "[encoded data removed]",
      "text/plain": [
       "<Figure size 640x480 with 1 Axes>"
      ]
     },
     "metadata": {},
     "output_type": "display_data"
    }
   ],
   "source": [
    "sns.countplot(data=df,y=\"transmission\",hue=\"fuel\")"
   ]
  },
  {
   "cell_type": "markdown",
   "id": "d204157e",
   "metadata": {},
   "source": [
    "*Analyze the ownership distribution (owner) for cars in different states.*"
   ]
  },
  {
   "cell_type": "code",
   "execution_count": 40,
   "id": "d0f933c0",
   "metadata": {},
   "outputs": [
    {
     "data": {
      "text/plain": [
       "<Axes: xlabel='count', ylabel='state'>"
      ]
     },
     "execution_count": 40,
     "metadata": {},
     "output_type": "execute_result"
    },
    {
     "data": {
      "image/png": "[encoded data removed]",
      "text/plain": [
       "<Figure size 640x480 with 1 Axes>"
      ]
     },
     "metadata": {},
     "output_type": "display_data"
    }
   ],
   "source": [
    "sns.countplot(data=df,hue=\"owner\",y=\"state\")"
   ]
  },
  {
   "cell_type": "markdown",
   "id": "00d43a41",
   "metadata": {},
   "source": [
    "# 9. Price Factors"
   ]
  },
  {
   "cell_type": "markdown",
   "id": "dd78b2c8",
   "metadata": {},
   "source": [
    "*Combined impact of fuel type, transmission, and owner on car price*"
   ]
  },
  {
   "cell_type": "code",
   "execution_count": 42,
   "id": "e5109d75",
   "metadata": {},
   "outputs": [
    {
     "name": "stdout",
     "output_type": "stream",
     "text": [
      "𝐀𝐯𝐞𝐫𝐚𝐠𝐞 𝐩𝐫𝐢𝐜𝐞 𝐛𝐚𝐬𝐞𝐝 𝐨𝐧 𝐟𝐮𝐞𝐥 𝐭𝐲𝐩𝐞, 𝐭𝐫𝐚𝐧𝐬𝐦𝐢𝐬𝐬𝐢𝐨𝐧, 𝐚𝐧𝐝 𝐨𝐰𝐧𝐞𝐫:\n",
      "fuel    transmission                             owner\n",
      "CNG     1.5 TITANIUM SIGNATURE TI VCT (SUNROOF)  2nd      9.350000e+05\n",
      "        1.5 TITANIUM TI VCT                      1st      7.650000e+05\n",
      "        Automatic                                1st      7.210000e+05\n",
      "                                                 2nd      5.200000e+05\n",
      "        Manual                                   1st      5.664379e+05\n",
      "                                                 2nd      6.061250e+05\n",
      "Diesel  1.5TITANIUM TDCI                         1st      7.382500e+05\n",
      "        AMBIENTE 1.5L DIESEL                     1st      7.150000e+05\n",
      "        Automatic                                1st      1.081105e+06\n",
      "                                                 2nd      7.470000e+05\n",
      "        Manual                                   1st      9.803913e+05\n",
      "                                                 2nd      9.128400e+05\n",
      "        TITANIUM 1.5L DIESEL                     1st      7.890000e+05\n",
      "Petrol  1.0 TREND+ (ECOBOOST)                    1st      6.380000e+05\n",
      "        1.5 TITANIUM TI VCT                      1st      6.555000e+05\n",
      "                                                 2nd      8.030000e+05\n",
      "        1.5 TITANIUM TI VCT AT                   1st      5.170000e+05\n",
      "                                                 2nd      5.750000e+05\n",
      "        1.5AMBIENTE TI VCT                       1st      5.520000e+05\n",
      "        Automatic                                1st      9.055562e+05\n",
      "                                                 2nd      6.470816e+05\n",
      "        FLAIR EDITION 1.2 TI VCT                 1st      7.030000e+05\n",
      "        Manual                                   1st      6.206512e+05\n",
      "                                                 2nd      5.057086e+05\n",
      "        TITANIUM 1.5L PETROL                     1st      7.930000e+05\n",
      "        TITANIUM 1.5L PETROL AT                  1st      6.160000e+05\n",
      "                                                 2nd      5.340000e+05\n",
      "        TREND 1.5L PETROL                        1st      6.060000e+05\n",
      "        TREND+ 1.2 TI-VCT                        1st      6.190000e+05\n",
      "Name: price, dtype: float64\n"
     ]
    }
   ],
   "source": [
    "print(\"𝐀𝐯𝐞𝐫𝐚𝐠𝐞 𝐩𝐫𝐢𝐜𝐞 𝐛𝐚𝐬𝐞𝐝 𝐨𝐧 𝐟𝐮𝐞𝐥 𝐭𝐲𝐩𝐞, 𝐭𝐫𝐚𝐧𝐬𝐦𝐢𝐬𝐬𝐢𝐨𝐧, 𝐚𝐧𝐝 𝐨𝐰𝐧𝐞𝐫:\")\n",
    "print(df.groupby(['fuel', 'transmission', 'owner'])['price'].mean())\n"
   ]
  },
  {
   "cell_type": "markdown",
   "id": "6118336f",
   "metadata": {},
   "source": [
    " *Price difference across cities for same make and model*"
   ]
  },
  {
   "cell_type": "code",
   "execution_count": 43,
   "id": "24d3206a",
   "metadata": {},
   "outputs": [
    {
     "name": "stdout",
     "output_type": "stream",
     "text": [
      "𝐀𝐯𝐞𝐫𝐚𝐠𝐞 𝐩𝐫𝐢𝐜𝐞 𝐚𝐜𝐫𝐨𝐬𝐬 𝐜𝐢𝐭𝐢𝐞𝐬 𝐟𝐨𝐫 𝐬𝐚𝐦𝐞 𝐦𝐚𝐤𝐞 𝐚𝐧𝐝 𝐦𝐨𝐝𝐞𝐥:\n",
      "make  model     city     \n",
      "FORD  ECOSPORT  Ahmedabad    889500.000000\n",
      "                Delhi        704714.285714\n",
      "                Ghaziabad    686125.000000\n",
      "                Gurgaon      704714.285714\n",
      "                Kolkata      576666.666667\n",
      "                                 ...      \n",
      "TATA  Tiago     Gurgaon      542111.111111\n",
      "                Kochi        519333.333333\n",
      "                Kolkata      465000.000000\n",
      "                Mumbai       589666.666667\n",
      "                Noida        560750.000000\n",
      "Name: price, Length: 227, dtype: float64\n"
     ]
    }
   ],
   "source": [
    "print(\"𝐀𝐯𝐞𝐫𝐚𝐠𝐞 𝐩𝐫𝐢𝐜𝐞 𝐚𝐜𝐫𝐨𝐬𝐬 𝐜𝐢𝐭𝐢𝐞𝐬 𝐟𝐨𝐫 𝐬𝐚𝐦𝐞 𝐦𝐚𝐤𝐞 𝐚𝐧𝐝 𝐦𝐨𝐝𝐞𝐥:\")\n",
    "print(df.groupby(['make', 'model', 'city'])['price'].mean())"
   ]
  },
  {
   "cell_type": "markdown",
   "id": "7ec77ac3",
   "metadata": {},
   "source": [
    "\n",
    "# 10. Outliers"
   ]
  },
  {
   "cell_type": "markdown",
   "id": "181487d7",
   "metadata": {},
   "source": [
    " *Identify outliers in price and kilometers using boxplots*"
   ]
  },
  {
   "cell_type": "code",
   "execution_count": 44,
   "id": "d04b73e1",
   "metadata": {},
   "outputs": [
    {
     "data": {
      "text/plain": [
       "<Axes: >"
      ]
     },
     "execution_count": 44,
     "metadata": {},
     "output_type": "execute_result"
    },
    {
     "data": {
      "image/png": "[encoded data removed]",
      "text/plain": [
       "<Figure size 640x480 with 1 Axes>"
      ]
     },
     "metadata": {},
     "output_type": "display_data"
    }
   ],
   "source": [
    "df[\"price\"].plot(kind=\"box\")"
   ]
  },
  {
   "cell_type": "code",
   "execution_count": 45,
   "id": "f491c7f9",
   "metadata": {},
   "outputs": [
    {
     "data": {
      "text/plain": [
       "<Axes: >"
      ]
     },
     "execution_count": 45,
     "metadata": {},
     "output_type": "execute_result"
    },
    {
     "data": {
      "image/png": "[encoded data removed]",
      "text/plain": [
       "<Figure size 640x480 with 1 Axes>"
      ]
     },
     "metadata": {},
     "output_type": "display_data"
    }
   ],
   "source": [
    "df[\"kilometers\"].plot(kind=\"box\")"
   ]
  },
  {
   "cell_type": "markdown",
   "id": "7e6738e3",
   "metadata": {},
   "source": [
    "*What are the possible reasons for these outliers? Should they be treated?*"
   ]
  },
  {
   "cell_type": "code",
   "execution_count": 47,
   "id": "1a690e23",
   "metadata": {},
   "outputs": [
    {
     "name": "stdout",
     "output_type": "stream",
     "text": [
      "q1 for price is: 493000.0\n",
      "q3 for price is: 782000.0\n"
     ]
    }
   ],
   "source": [
    "q1=df[\"price\"].quantile(0.25)\n",
    "print(\"q1 for price is:\",q1)\n",
    "q3=df[\"price\"].quantile(0.75)\n",
    "print(\"q3 for price is:\",q3)"
   ]
  },
  {
   "cell_type": "code",
   "execution_count": 48,
   "id": "24005a68",
   "metadata": {},
   "outputs": [
    {
     "name": "stdout",
     "output_type": "stream",
     "text": [
      "IQR for price is: 289000.0\n"
     ]
    }
   ],
   "source": [
    "IQR=q3-q1\n",
    "print(\"IQR for price is:\",IQR)"
   ]
  },
  {
   "cell_type": "code",
   "execution_count": 55,
   "id": "88112ae2",
   "metadata": {},
   "outputs": [
    {
     "name": "stdout",
     "output_type": "stream",
     "text": [
      "lower_boundary: 59500.0\n"
     ]
    }
   ],
   "source": [
    "lower_boundary=q1-1.5*IQR\n",
    "print(\"lower_boundary:\",lower_boundary)"
   ]
  },
  {
   "cell_type": "code",
   "execution_count": 56,
   "id": "2ef52e08",
   "metadata": {},
   "outputs": [
    {
     "name": "stdout",
     "output_type": "stream",
     "text": [
      "upper_boundary: 1215500.0\n"
     ]
    }
   ],
   "source": [
    "upper_boundary=q3+1.5*IQR\n",
    "print(\"upper_boundary:\",upper_boundary)"
   ]
  },
  {
   "cell_type": "code",
   "execution_count": 65,
   "id": "318f6390",
   "metadata": {},
   "outputs": [],
   "source": [
    "df1=df[(df[\"price\"]>lower_boundary)&(df[\"price\"]<upper_boundary)]"
   ]
  },
  {
   "cell_type": "code",
   "execution_count": 66,
   "id": "1ac83cbf",
   "metadata": {},
   "outputs": [
    {
     "data": {
      "text/plain": [
       "<Axes: >"
      ]
     },
     "execution_count": 66,
     "metadata": {},
     "output_type": "execute_result"
    },
    {
     "data": {
      "image/png": "[encoded data removed]",
      "text/plain": [
       "<Figure size 640x480 with 1 Axes>"
      ]
     },
     "metadata": {},
     "output_type": "display_data"
    }
   ],
   "source": [
    "df1[\"price\"].plot(kind=\"box\")"
   ]
  },
  {
   "cell_type": "markdown",
   "id": "6818b840",
   "metadata": {},
   "source": [
    "# 11.Location Insights:"
   ]
  },
  {
   "cell_type": "markdown",
   "id": "a8d3f75c",
   "metadata": {},
   "source": [
    "*Which cities or states have the highest number of listed cars?*"
   ]
  },
  {
   "cell_type": "code",
   "execution_count": 68,
   "id": "0164f3bd",
   "metadata": {},
   "outputs": [
    {
     "name": "stdout",
     "output_type": "stream",
     "text": [
      "cities with highest number of listed cars:\n",
      "city\n",
      "Delhi        335\n",
      "Ghaziabad    329\n",
      "Gurgaon      312\n",
      "Noida        309\n",
      "Mumbai       215\n",
      "Ahmedabad    136\n",
      "Kolkata      120\n",
      "Kochi         56\n",
      "ahmedabad      3\n",
      "Name: count, dtype: int64\n"
     ]
    }
   ],
   "source": [
    "print(\"cities with highest number of listed cars:\")\n",
    "print(df[\"city\"].value_counts().head(10))"
   ]
  },
  {
   "cell_type": "code",
   "execution_count": 69,
   "id": "6c046e90",
   "metadata": {},
   "outputs": [
    {
     "name": "stdout",
     "output_type": "stream",
     "text": [
      "states with the highest number of listed cars:\n",
      "state\n",
      "UttarPradesh    638\n",
      "CapitalUT       335\n",
      "Haryana         312\n",
      "Maharashtra     215\n",
      "Gujarat         139\n",
      "WestBengal      120\n",
      "Kerala           56\n",
      "Name: count, dtype: int64\n"
     ]
    }
   ],
   "source": [
    "print(\"states with the highest number of listed cars:\")\n",
    "print(df[\"state\"].value_counts().head(10))"
   ]
  },
  {
   "cell_type": "markdown",
   "id": "adc05438",
   "metadata": {},
   "source": [
    "*Visualize the average price of cars across different states.*"
   ]
  },
  {
   "cell_type": "code",
   "execution_count": 70,
   "id": "7647eb78",
   "metadata": {},
   "outputs": [
    {
     "data": {
      "text/plain": [
       "state\n",
       "CapitalUT       727089.552239\n",
       "Gujarat         681575.539568\n",
       "Haryana         735522.435897\n",
       "Kerala          514639.285714\n",
       "Maharashtra     618688.372093\n",
       "UttarPradesh    724716.927900\n",
       "WestBengal      534208.333333\n",
       "Name: price, dtype: float64"
      ]
     },
     "execution_count": 70,
     "metadata": {},
     "output_type": "execute_result"
    }
   ],
   "source": [
    "df.groupby(\"state\")[\"price\"].mean()"
   ]
  },
  {
   "cell_type": "markdown",
   "id": "c0448ecf",
   "metadata": {},
   "source": [
    "# 12.Trends Over Time:"
   ]
  },
  {
   "cell_type": "code",
   "execution_count": 71,
   "id": "57b14abd",
   "metadata": {},
   "outputs": [
    {
     "data": {
      "text/html": [
       "<div>\n",
       "<style scoped>\n",
       "    .dataframe tbody tr th:only-of-type {\n",
       "        vertical-align: middle;\n",
       "    }\n",
       "\n",
       "    .dataframe tbody tr th {\n",
       "        vertical-align: top;\n",
       "    }\n",
       "\n",
       "    .dataframe thead th {\n",
       "        text-align: right;\n",
       "    }\n",
       "</style>\n",
       "<table border=\"1\" class=\"dataframe\">\n",
       "  <thead>\n",
       "    <tr style=\"text-align: right;\">\n",
       "      <th></th>\n",
       "      <th>state</th>\n",
       "      <th>city</th>\n",
       "      <th>make</th>\n",
       "      <th>model</th>\n",
       "      <th>series</th>\n",
       "      <th>transmission</th>\n",
       "      <th>fuel</th>\n",
       "      <th>owner</th>\n",
       "      <th>emi</th>\n",
       "      <th>kilometers</th>\n",
       "      <th>mileage</th>\n",
       "      <th>seating</th>\n",
       "      <th>price</th>\n",
       "    </tr>\n",
       "    <tr>\n",
       "      <th>year</th>\n",
       "      <th></th>\n",
       "      <th></th>\n",
       "      <th></th>\n",
       "      <th></th>\n",
       "      <th></th>\n",
       "      <th></th>\n",
       "      <th></th>\n",
       "      <th></th>\n",
       "      <th></th>\n",
       "      <th></th>\n",
       "      <th></th>\n",
       "      <th></th>\n",
       "      <th></th>\n",
       "    </tr>\n",
       "  </thead>\n",
       "  <tbody>\n",
       "    <tr>\n",
       "      <th>2010</th>\n",
       "      <td>6</td>\n",
       "      <td>6</td>\n",
       "      <td>6</td>\n",
       "      <td>6</td>\n",
       "      <td>6</td>\n",
       "      <td>6</td>\n",
       "      <td>6</td>\n",
       "      <td>6</td>\n",
       "      <td>6</td>\n",
       "      <td>6</td>\n",
       "      <td>6</td>\n",
       "      <td>6</td>\n",
       "      <td>6</td>\n",
       "    </tr>\n",
       "    <tr>\n",
       "      <th>2011</th>\n",
       "      <td>6</td>\n",
       "      <td>6</td>\n",
       "      <td>6</td>\n",
       "      <td>6</td>\n",
       "      <td>6</td>\n",
       "      <td>6</td>\n",
       "      <td>6</td>\n",
       "      <td>6</td>\n",
       "      <td>6</td>\n",
       "      <td>6</td>\n",
       "      <td>6</td>\n",
       "      <td>6</td>\n",
       "      <td>6</td>\n",
       "    </tr>\n",
       "    <tr>\n",
       "      <th>2012</th>\n",
       "      <td>33</td>\n",
       "      <td>33</td>\n",
       "      <td>33</td>\n",
       "      <td>33</td>\n",
       "      <td>33</td>\n",
       "      <td>33</td>\n",
       "      <td>33</td>\n",
       "      <td>33</td>\n",
       "      <td>33</td>\n",
       "      <td>33</td>\n",
       "      <td>33</td>\n",
       "      <td>33</td>\n",
       "      <td>33</td>\n",
       "    </tr>\n",
       "    <tr>\n",
       "      <th>2013</th>\n",
       "      <td>31</td>\n",
       "      <td>31</td>\n",
       "      <td>31</td>\n",
       "      <td>31</td>\n",
       "      <td>31</td>\n",
       "      <td>31</td>\n",
       "      <td>31</td>\n",
       "      <td>31</td>\n",
       "      <td>31</td>\n",
       "      <td>31</td>\n",
       "      <td>31</td>\n",
       "      <td>31</td>\n",
       "      <td>31</td>\n",
       "    </tr>\n",
       "    <tr>\n",
       "      <th>2014</th>\n",
       "      <td>83</td>\n",
       "      <td>83</td>\n",
       "      <td>83</td>\n",
       "      <td>83</td>\n",
       "      <td>83</td>\n",
       "      <td>83</td>\n",
       "      <td>83</td>\n",
       "      <td>83</td>\n",
       "      <td>83</td>\n",
       "      <td>83</td>\n",
       "      <td>83</td>\n",
       "      <td>83</td>\n",
       "      <td>83</td>\n",
       "    </tr>\n",
       "    <tr>\n",
       "      <th>2015</th>\n",
       "      <td>133</td>\n",
       "      <td>133</td>\n",
       "      <td>133</td>\n",
       "      <td>133</td>\n",
       "      <td>133</td>\n",
       "      <td>133</td>\n",
       "      <td>133</td>\n",
       "      <td>133</td>\n",
       "      <td>133</td>\n",
       "      <td>133</td>\n",
       "      <td>133</td>\n",
       "      <td>133</td>\n",
       "      <td>133</td>\n",
       "    </tr>\n",
       "    <tr>\n",
       "      <th>2016</th>\n",
       "      <td>162</td>\n",
       "      <td>162</td>\n",
       "      <td>162</td>\n",
       "      <td>162</td>\n",
       "      <td>162</td>\n",
       "      <td>162</td>\n",
       "      <td>162</td>\n",
       "      <td>162</td>\n",
       "      <td>162</td>\n",
       "      <td>162</td>\n",
       "      <td>162</td>\n",
       "      <td>162</td>\n",
       "      <td>162</td>\n",
       "    </tr>\n",
       "    <tr>\n",
       "      <th>2017</th>\n",
       "      <td>184</td>\n",
       "      <td>184</td>\n",
       "      <td>184</td>\n",
       "      <td>184</td>\n",
       "      <td>184</td>\n",
       "      <td>184</td>\n",
       "      <td>184</td>\n",
       "      <td>184</td>\n",
       "      <td>184</td>\n",
       "      <td>184</td>\n",
       "      <td>184</td>\n",
       "      <td>184</td>\n",
       "      <td>184</td>\n",
       "    </tr>\n",
       "    <tr>\n",
       "      <th>2018</th>\n",
       "      <td>215</td>\n",
       "      <td>215</td>\n",
       "      <td>215</td>\n",
       "      <td>215</td>\n",
       "      <td>215</td>\n",
       "      <td>215</td>\n",
       "      <td>215</td>\n",
       "      <td>215</td>\n",
       "      <td>215</td>\n",
       "      <td>215</td>\n",
       "      <td>215</td>\n",
       "      <td>215</td>\n",
       "      <td>215</td>\n",
       "    </tr>\n",
       "    <tr>\n",
       "      <th>2019</th>\n",
       "      <td>291</td>\n",
       "      <td>291</td>\n",
       "      <td>291</td>\n",
       "      <td>291</td>\n",
       "      <td>290</td>\n",
       "      <td>290</td>\n",
       "      <td>291</td>\n",
       "      <td>291</td>\n",
       "      <td>291</td>\n",
       "      <td>291</td>\n",
       "      <td>291</td>\n",
       "      <td>291</td>\n",
       "      <td>291</td>\n",
       "    </tr>\n",
       "    <tr>\n",
       "      <th>2020</th>\n",
       "      <td>266</td>\n",
       "      <td>266</td>\n",
       "      <td>266</td>\n",
       "      <td>266</td>\n",
       "      <td>260</td>\n",
       "      <td>260</td>\n",
       "      <td>266</td>\n",
       "      <td>266</td>\n",
       "      <td>266</td>\n",
       "      <td>266</td>\n",
       "      <td>266</td>\n",
       "      <td>266</td>\n",
       "      <td>266</td>\n",
       "    </tr>\n",
       "    <tr>\n",
       "      <th>2021</th>\n",
       "      <td>337</td>\n",
       "      <td>337</td>\n",
       "      <td>337</td>\n",
       "      <td>337</td>\n",
       "      <td>329</td>\n",
       "      <td>329</td>\n",
       "      <td>337</td>\n",
       "      <td>337</td>\n",
       "      <td>337</td>\n",
       "      <td>337</td>\n",
       "      <td>337</td>\n",
       "      <td>337</td>\n",
       "      <td>337</td>\n",
       "    </tr>\n",
       "    <tr>\n",
       "      <th>2022</th>\n",
       "      <td>68</td>\n",
       "      <td>68</td>\n",
       "      <td>68</td>\n",
       "      <td>68</td>\n",
       "      <td>67</td>\n",
       "      <td>67</td>\n",
       "      <td>68</td>\n",
       "      <td>68</td>\n",
       "      <td>68</td>\n",
       "      <td>68</td>\n",
       "      <td>68</td>\n",
       "      <td>68</td>\n",
       "      <td>68</td>\n",
       "    </tr>\n",
       "  </tbody>\n",
       "</table>\n",
       "</div>"
      ],
      "text/plain": [
       "      state  city  make  model  series  transmission  fuel  owner  emi  \\\n",
       "year                                                                     \n",
       "2010      6     6     6      6       6             6     6      6    6   \n",
       "2011      6     6     6      6       6             6     6      6    6   \n",
       "2012     33    33    33     33      33            33    33     33   33   \n",
       "2013     31    31    31     31      31            31    31     31   31   \n",
       "2014     83    83    83     83      83            83    83     83   83   \n",
       "2015    133   133   133    133     133           133   133    133  133   \n",
       "2016    162   162   162    162     162           162   162    162  162   \n",
       "2017    184   184   184    184     184           184   184    184  184   \n",
       "2018    215   215   215    215     215           215   215    215  215   \n",
       "2019    291   291   291    291     290           290   291    291  291   \n",
       "2020    266   266   266    266     260           260   266    266  266   \n",
       "2021    337   337   337    337     329           329   337    337  337   \n",
       "2022     68    68    68     68      67            67    68     68   68   \n",
       "\n",
       "      kilometers  mileage  seating  price  \n",
       "year                                       \n",
       "2010           6        6        6      6  \n",
       "2011           6        6        6      6  \n",
       "2012          33       33       33     33  \n",
       "2013          31       31       31     31  \n",
       "2014          83       83       83     83  \n",
       "2015         133      133      133    133  \n",
       "2016         162      162      162    162  \n",
       "2017         184      184      184    184  \n",
       "2018         215      215      215    215  \n",
       "2019         291      291      291    291  \n",
       "2020         266      266      266    266  \n",
       "2021         337      337      337    337  \n",
       "2022          68       68       68     68  "
      ]
     },
     "execution_count": 71,
     "metadata": {},
     "output_type": "execute_result"
    }
   ],
   "source": [
    "#Analyze the distribution of car listings by year. Are older cars more commonly sold?\n",
    "df.groupby(\"year\").count()"
   ]
  },
  {
   "cell_type": "code",
   "execution_count": 72,
   "id": "72942c0d",
   "metadata": {},
   "outputs": [
    {
     "data": {
      "text/plain": [
       "make  year\n",
       "FORD  2013    464000.000000\n",
       "      2014    515500.000000\n",
       "      2015    553750.000000\n",
       "      2016    597409.090909\n",
       "      2017    666187.500000\n",
       "                  ...      \n",
       "TATA  2018    600026.315789\n",
       "      2019    801300.000000\n",
       "      2020    776337.349398\n",
       "      2021    875125.000000\n",
       "      2022    841187.500000\n",
       "Name: price, Length: 67, dtype: float64"
      ]
     },
     "execution_count": 72,
     "metadata": {},
     "output_type": "execute_result"
    }
   ],
   "source": [
    "#How has the average price changed for different makes over the years?\n",
    "df.groupby([\"make\",\"year\"])[\"price\"].mean()"
   ]
  },
  {
   "cell_type": "markdown",
   "id": "25350863",
   "metadata": {},
   "source": [
    "# 13. Derived Features"
   ]
  },
  {
   "cell_type": "markdown",
   "id": "43c9825a",
   "metadata": {},
   "source": [
    " *Create a new column for car's age (assuming you have a 'year' column)*"
   ]
  },
  {
   "cell_type": "code",
   "execution_count": 78,
   "id": "b744e7d1",
   "metadata": {},
   "outputs": [
    {
     "data": {
      "text/html": [
       "<div>\n",
       "<style scoped>\n",
       "    .dataframe tbody tr th:only-of-type {\n",
       "        vertical-align: middle;\n",
       "    }\n",
       "\n",
       "    .dataframe tbody tr th {\n",
       "        vertical-align: top;\n",
       "    }\n",
       "\n",
       "    .dataframe thead th {\n",
       "        text-align: right;\n",
       "    }\n",
       "</style>\n",
       "<table border=\"1\" class=\"dataframe\">\n",
       "  <thead>\n",
       "    <tr style=\"text-align: right;\">\n",
       "      <th></th>\n",
       "      <th>state</th>\n",
       "      <th>city</th>\n",
       "      <th>year</th>\n",
       "      <th>make</th>\n",
       "      <th>model</th>\n",
       "      <th>series</th>\n",
       "      <th>transmission</th>\n",
       "      <th>fuel</th>\n",
       "      <th>owner</th>\n",
       "      <th>emi</th>\n",
       "      <th>kilometers</th>\n",
       "      <th>mileage</th>\n",
       "      <th>seating</th>\n",
       "      <th>price</th>\n",
       "      <th>age</th>\n",
       "    </tr>\n",
       "  </thead>\n",
       "  <tbody>\n",
       "    <tr>\n",
       "      <th>0</th>\n",
       "      <td>CapitalUT</td>\n",
       "      <td>Delhi</td>\n",
       "      <td>2020</td>\n",
       "      <td>FORD</td>\n",
       "      <td>ECOSPORT</td>\n",
       "      <td>TITANIUM 1.5L DIESEL</td>\n",
       "      <td>Manual</td>\n",
       "      <td>Diesel</td>\n",
       "      <td>1st</td>\n",
       "      <td>15425</td>\n",
       "      <td>96075</td>\n",
       "      <td>9</td>\n",
       "      <td>5</td>\n",
       "      <td>789000</td>\n",
       "      <td>5</td>\n",
       "    </tr>\n",
       "    <tr>\n",
       "      <th>1</th>\n",
       "      <td>CapitalUT</td>\n",
       "      <td>Delhi</td>\n",
       "      <td>2016</td>\n",
       "      <td>FORD</td>\n",
       "      <td>Ecosport</td>\n",
       "      <td>1.5AMBIENTE TI VCT</td>\n",
       "      <td>Manual</td>\n",
       "      <td>Petrol</td>\n",
       "      <td>1st</td>\n",
       "      <td>10792</td>\n",
       "      <td>55017</td>\n",
       "      <td>9</td>\n",
       "      <td>5</td>\n",
       "      <td>552000</td>\n",
       "      <td>9</td>\n",
       "    </tr>\n",
       "    <tr>\n",
       "      <th>2</th>\n",
       "      <td>CapitalUT</td>\n",
       "      <td>Delhi</td>\n",
       "      <td>2018</td>\n",
       "      <td>FORD</td>\n",
       "      <td>ECOSPORT</td>\n",
       "      <td>AMBIENTE 1.5L DIESEL</td>\n",
       "      <td>Manual</td>\n",
       "      <td>Diesel</td>\n",
       "      <td>1st</td>\n",
       "      <td>13978</td>\n",
       "      <td>24931</td>\n",
       "      <td>9</td>\n",
       "      <td>5</td>\n",
       "      <td>715000</td>\n",
       "      <td>7</td>\n",
       "    </tr>\n",
       "    <tr>\n",
       "      <th>3</th>\n",
       "      <td>CapitalUT</td>\n",
       "      <td>Delhi</td>\n",
       "      <td>2019</td>\n",
       "      <td>FORD</td>\n",
       "      <td>ECOSPORT</td>\n",
       "      <td>TITANIUM 1.5L PETROL</td>\n",
       "      <td>Manual</td>\n",
       "      <td>Petrol</td>\n",
       "      <td>1st</td>\n",
       "      <td>15503</td>\n",
       "      <td>22270</td>\n",
       "      <td>9</td>\n",
       "      <td>5</td>\n",
       "      <td>793000</td>\n",
       "      <td>6</td>\n",
       "    </tr>\n",
       "    <tr>\n",
       "      <th>4</th>\n",
       "      <td>CapitalUT</td>\n",
       "      <td>Delhi</td>\n",
       "      <td>2015</td>\n",
       "      <td>FORD</td>\n",
       "      <td>Ecosport</td>\n",
       "      <td>TITANIUM 1.5L PETROL AT</td>\n",
       "      <td>Automatic</td>\n",
       "      <td>Petrol</td>\n",
       "      <td>2nd</td>\n",
       "      <td>10440</td>\n",
       "      <td>78906</td>\n",
       "      <td>9</td>\n",
       "      <td>5</td>\n",
       "      <td>534000</td>\n",
       "      <td>10</td>\n",
       "    </tr>\n",
       "  </tbody>\n",
       "</table>\n",
       "</div>"
      ],
      "text/plain": [
       "       state   city  year  make     model                   series  \\\n",
       "0  CapitalUT  Delhi  2020  FORD  ECOSPORT     TITANIUM 1.5L DIESEL   \n",
       "1  CapitalUT  Delhi  2016  FORD  Ecosport       1.5AMBIENTE TI VCT   \n",
       "2  CapitalUT  Delhi  2018  FORD  ECOSPORT     AMBIENTE 1.5L DIESEL   \n",
       "3  CapitalUT  Delhi  2019  FORD  ECOSPORT     TITANIUM 1.5L PETROL   \n",
       "4  CapitalUT  Delhi  2015  FORD  Ecosport  TITANIUM 1.5L PETROL AT   \n",
       "\n",
       "  transmission    fuel owner    emi  kilometers  mileage  seating   price  age  \n",
       "0       Manual  Diesel  1st   15425       96075        9        5  789000    5  \n",
       "1       Manual  Petrol  1st   10792       55017        9        5  552000    9  \n",
       "2       Manual  Diesel  1st   13978       24931        9        5  715000    7  \n",
       "3       Manual  Petrol  1st   15503       22270        9        5  793000    6  \n",
       "4    Automatic  Petrol  2nd   10440       78906        9        5  534000   10  "
      ]
     },
     "execution_count": 78,
     "metadata": {},
     "output_type": "execute_result"
    }
   ],
   "source": [
    "y1=2025\n",
    "df['age'] = y1 - df['year']\n",
    "df.head(5)"
   ]
  },
  {
   "cell_type": "code",
   "execution_count": 79,
   "id": "acb26d00",
   "metadata": {},
   "outputs": [
    {
     "data": {
      "text/plain": [
       "<Axes: xlabel='age', ylabel='price'>"
      ]
     },
     "execution_count": 79,
     "metadata": {},
     "output_type": "execute_result"
    },
    {
     "data": {
      "image/png": "[encoded data removed]",
      "text/plain": [
       "<Figure size 640x480 with 1 Axes>"
      ]
     },
     "metadata": {},
     "output_type": "display_data"
    }
   ],
   "source": [
    "sns.lineplot(data=df,y=\"price\",x=\"age\")"
   ]
  },
  {
   "cell_type": "markdown",
   "id": "78e41c66",
   "metadata": {},
   "source": [
    "# 14. Business Insights"
   ]
  },
  {
   "cell_type": "markdown",
   "id": "8f343b67",
   "metadata": {},
   "source": [
    "*Which factors most significantly influence the price of a used car?*     "
   ]
  },
  {
   "cell_type": "markdown",
   "id": "8ca0a7b8",
   "metadata": {},
   "source": [
    "Many things affect a car's model:\n",
    "Brand and Model: Popular, reliable cars hold their value better.\n",
    "Age and Mileage: Older cars with high mileage lose value faster.\n",
    "Condition: Well-maintained cars are worth more.\n",
    "Where you live: Demand for certain cars varies by location.\n",
    "Older cars cost more to maintain:\n",
    "Parts can be expensive and hard to find.\n",
    "Repairs become more frequent.\n",
    "Basically, the older a car gets, the less it's worth, and the more it costs to keep it running smoothly."
   ]
  },
  {
   "cell_type": "markdown",
   "id": "802449f6",
   "metadata": {},
   "source": [
    "*What are the best-selling makes and models in specific cities or states?*"
   ]
  },
  {
   "cell_type": "code",
   "execution_count": 81,
   "id": "e9e1780d",
   "metadata": {},
   "outputs": [
    {
     "data": {
      "text/plain": [
       "city       make     model    \n",
       "Ahmedabad  FORD     ECOSPORT     2\n",
       "                    Ecosport     3\n",
       "                    FREESTYLE    1\n",
       "           HONDA    AMAZE        3\n",
       "                    Amaze        5\n",
       "                                ..\n",
       "Noida      TATA     TIAGO        2\n",
       "                    Tiago        8\n",
       "ahmedabad  RENAULT  Kiger        1\n",
       "                    Kwid         1\n",
       "                    TRIBER       1\n",
       "Name: model, Length: 227, dtype: int64"
      ]
     },
     "execution_count": 81,
     "metadata": {},
     "output_type": "execute_result"
    }
   ],
   "source": [
    "df.groupby([\"city\",\"make\",\"model\"])[\"model\"].count()"
   ]
  }
 ],
 "metadata": {
  "kernelspec": {
   "display_name": "Python 3 (ipykernel)",
   "language": "python",
   "name": "python3"
  },
  "language_info": {
   "codemirror_mode": {
    "name": "ipython",
    "version": 3
   },
   "file_extension": ".py",
   "mimetype": "text/x-python",
   "name": "python",
   "nbconvert_exporter": "python",
   "pygments_lexer": "ipython3",
   "version": "3.11.5"
  }
 },
 "nbformat": 4,
 "nbformat_minor": 5
}
